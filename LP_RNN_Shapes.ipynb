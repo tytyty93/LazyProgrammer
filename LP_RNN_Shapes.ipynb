{
  "nbformat": 4,
  "nbformat_minor": 0,
  "metadata": {
    "colab": {
      "name": "LP_RNN Shapes.ipynb",
      "provenance": [],
      "authorship_tag": "ABX9TyPHxsmy7WRZes+eBKi74ZE6",
      "include_colab_link": true
    },
    "kernelspec": {
      "name": "python3",
      "display_name": "Python 3"
    }
  },
  "cells": [
    {
      "cell_type": "markdown",
      "metadata": {
        "id": "view-in-github",
        "colab_type": "text"
      },
      "source": [
        "<a href=\"https://colab.research.google.com/github/tytyty93/LazyProgrammer/blob/master/LP_RNN_Shapes.ipynb\" target=\"_parent\"><img src=\"https://colab.research.google.com/assets/colab-badge.svg\" alt=\"Open In Colab\"/></a>"
      ]
    },
    {
      "cell_type": "code",
      "metadata": {
        "id": "IRuEUO6Iake7",
        "colab_type": "code",
        "colab": {}
      },
      "source": [
        "from tensorflow.keras.models import Model\n",
        "from tensorflow.keras.layers import Dense, Input, SimpleRNN\n",
        "from tensorflow.keras.optimizers import SGD, Adam\n",
        "\n",
        "import matplotlib.pyplot as plt\n",
        "import numpy as np\n",
        "import pandas as pd"
      ],
      "execution_count": 0,
      "outputs": []
    },
    {
      "cell_type": "code",
      "metadata": {
        "id": "oynu5KR_b1zi",
        "colab_type": "code",
        "colab": {}
      },
      "source": [
        "# Things you should automatically know and have memorized\n",
        "# N = number of samples\n",
        "# T = sequence length\n",
        "# D = number of input features\n",
        "# M = number of hidden units\n",
        "# K = number of output units"
      ],
      "execution_count": 0,
      "outputs": []
    },
    {
      "cell_type": "markdown",
      "metadata": {
        "id": "JjFJePW1bSz5",
        "colab_type": "text"
      },
      "source": [
        "# Making Dumy Variable"
      ]
    },
    {
      "cell_type": "code",
      "metadata": {
        "id": "GOgP6uNgaxMi",
        "colab_type": "code",
        "colab": {}
      },
      "source": [
        "N = 1\n",
        "T = 10\n",
        "D = 3\n",
        "K = 2\n",
        "X = np.random.randn(N,T,D)"
      ],
      "execution_count": 0,
      "outputs": []
    },
    {
      "cell_type": "code",
      "metadata": {
        "id": "Pemx0Sw_bfnQ",
        "colab_type": "code",
        "colab": {
          "base_uri": "https://localhost:8080/",
          "height": 185
        },
        "outputId": "6a53543c-112a-427c-9a3b-442a241d73f9"
      },
      "source": [
        "X"
      ],
      "execution_count": 10,
      "outputs": [
        {
          "output_type": "execute_result",
          "data": {
            "text/plain": [
              "array([[[ 0.45125545,  1.57851821,  0.82079193],\n",
              "        [-1.38244536, -0.45013062,  0.02232191],\n",
              "        [-2.04574349,  0.55692787,  1.83268995],\n",
              "        [-0.36556669, -0.89099539, -0.14635618],\n",
              "        [ 0.0236505 ,  1.42531751, -1.48369518],\n",
              "        [ 0.5663348 , -0.35926702,  0.65540362],\n",
              "        [ 1.29218633, -0.72918925,  0.15476168],\n",
              "        [-0.45814636,  0.12447674, -0.17185031],\n",
              "        [-1.85239591,  1.1905685 , -0.44014606],\n",
              "        [ 0.55956207,  0.49581423, -1.13726268]]])"
            ]
          },
          "metadata": {
            "tags": []
          },
          "execution_count": 10
        }
      ]
    },
    {
      "cell_type": "markdown",
      "metadata": {
        "id": "rW3DEVY4bV57",
        "colab_type": "text"
      },
      "source": [
        "# Making an RNN"
      ]
    },
    {
      "cell_type": "code",
      "metadata": {
        "id": "vD5oJxIqbBRN",
        "colab_type": "code",
        "colab": {}
      },
      "source": [
        "M = 5  # No. of hidden layers\n",
        "i = Input(shape=(T,D))\n",
        "x = SimpleRNN(M)(i)\n",
        "x = Dense(K)(x)\n",
        "\n",
        "model = Model(i,x)"
      ],
      "execution_count": 0,
      "outputs": []
    },
    {
      "cell_type": "markdown",
      "metadata": {
        "id": "TUfme6SbcS0U",
        "colab_type": "text"
      },
      "source": [
        "# Getting the Output"
      ]
    },
    {
      "cell_type": "code",
      "metadata": {
        "id": "-O3MljdqcS4J",
        "colab_type": "code",
        "colab": {
          "base_uri": "https://localhost:8080/",
          "height": 34
        },
        "outputId": "310577d1-3778-494e-eda1-5e1090490b61"
      },
      "source": [
        "Yhat = model.predict(X)\n",
        "print(Yhat)"
      ],
      "execution_count": 29,
      "outputs": [
        {
          "output_type": "stream",
          "text": [
            "[[-0.11826549  0.4587659 ]]\n"
          ],
          "name": "stdout"
        }
      ]
    },
    {
      "cell_type": "code",
      "metadata": {
        "id": "vTdHUfv6cY47",
        "colab_type": "code",
        "colab": {
          "base_uri": "https://localhost:8080/",
          "height": 34
        },
        "outputId": "166fc8e9-2b9d-4135-ae7e-601e1b997543"
      },
      "source": [
        "Yhat.shape"
      ],
      "execution_count": 18,
      "outputs": [
        {
          "output_type": "execute_result",
          "data": {
            "text/plain": [
              "(1, 2)"
            ]
          },
          "metadata": {
            "tags": []
          },
          "execution_count": 18
        }
      ]
    },
    {
      "cell_type": "code",
      "metadata": {
        "id": "sPqfnJg7cm8j",
        "colab_type": "code",
        "colab": {
          "base_uri": "https://localhost:8080/",
          "height": 255
        },
        "outputId": "4cef9aef-cb23-4ce7-cfbc-c14b88f54710"
      },
      "source": [
        "model.summary()"
      ],
      "execution_count": 30,
      "outputs": [
        {
          "output_type": "stream",
          "text": [
            "Model: \"model_2\"\n",
            "_________________________________________________________________\n",
            "Layer (type)                 Output Shape              Param #   \n",
            "=================================================================\n",
            "input_5 (InputLayer)         [(None, 10, 3)]           0         \n",
            "_________________________________________________________________\n",
            "simple_rnn_3 (SimpleRNN)     (None, 5)                 45        \n",
            "_________________________________________________________________\n",
            "dense_2 (Dense)              (None, 2)                 12        \n",
            "=================================================================\n",
            "Total params: 57\n",
            "Trainable params: 57\n",
            "Non-trainable params: 0\n",
            "_________________________________________________________________\n"
          ],
          "name": "stdout"
        }
      ]
    },
    {
      "cell_type": "code",
      "metadata": {
        "id": "-K2FmxHpcw57",
        "colab_type": "code",
        "colab": {
          "base_uri": "https://localhost:8080/",
          "height": 238
        },
        "outputId": "be0d3d42-2bac-4217-f43c-80cc169b2a96"
      },
      "source": [
        "# See what's returned\n",
        "model.layers[1].get_weights()"
      ],
      "execution_count": 32,
      "outputs": [
        {
          "output_type": "execute_result",
          "data": {
            "text/plain": [
              "[array([[ 5.0421280e-01, -2.8185099e-01,  1.2200183e-01, -8.2636654e-02,\n",
              "          9.5888734e-02],\n",
              "        [-7.5057322e-01,  8.3703321e-01,  7.5546235e-01,  7.9166716e-01,\n",
              "         -3.0803430e-01],\n",
              "        [-2.0083147e-01, -7.4992365e-01,  6.6216844e-01, -3.3438981e-01,\n",
              "         -8.3088875e-04]], dtype=float32),\n",
              " array([[-0.89939785,  0.31054702,  0.09653234,  0.16005601, -0.24435152],\n",
              "        [-0.28530592, -0.3599944 , -0.66601056,  0.2831937 ,  0.5150107 ],\n",
              "        [-0.30102357, -0.75399494,  0.23530075, -0.52470005, -0.10099461],\n",
              "        [ 0.02957161, -0.34092432,  0.5953963 ,  0.7095615 ,  0.15786654],\n",
              "        [-0.1348866 ,  0.29870865,  0.37047055, -0.3396995 ,  0.79995906]],\n",
              "       dtype=float32),\n",
              " array([0., 0., 0., 0., 0.], dtype=float32)]"
            ]
          },
          "metadata": {
            "tags": []
          },
          "execution_count": 32
        }
      ]
    },
    {
      "cell_type": "code",
      "metadata": {
        "id": "M4mUdQxfdqJK",
        "colab_type": "code",
        "colab": {
          "base_uri": "https://localhost:8080/",
          "height": 34
        },
        "outputId": "4d756045-62ab-4aa4-db43-163c0d3bab77"
      },
      "source": [
        "# Check their shapes\n",
        "# Should make sense\n",
        "# First output is input > hidden\n",
        "# Second output is hidden > hidden\n",
        "# Third output is bias term (vector of length M)\n",
        "a, b, c = model.layers[1].get_weights()\n",
        "print(a.shape, b.shape, c.shape)"
      ],
      "execution_count": 22,
      "outputs": [
        {
          "output_type": "stream",
          "text": [
            "(3, 5) (5, 5) (5,)\n"
          ],
          "name": "stdout"
        }
      ]
    },
    {
      "cell_type": "code",
      "metadata": {
        "id": "4jNKzigZdzu6",
        "colab_type": "code",
        "colab": {}
      },
      "source": [
        "Wx, Wh, bh = model.layers[1].get_weights()\n",
        "Wo, bo = model.layers[2].get_weights()"
      ],
      "execution_count": 0,
      "outputs": []
    },
    {
      "cell_type": "code",
      "metadata": {
        "id": "nsEisbjXd0Mz",
        "colab_type": "code",
        "colab": {
          "base_uri": "https://localhost:8080/",
          "height": 34
        },
        "outputId": "687f1424-8b0f-4d59-96bc-bad95e610967"
      },
      "source": [
        "h_last = np.zeros(M) # initial hidden state\n",
        "x = X[0] # the one and only sample\n",
        "Yhats = [] # where we store the outputs\n",
        "\n",
        "for t in range(T):\n",
        "  h = np.tanh(x[t].dot(Wx) + h_last.dot(Wh) + bh)\n",
        "  y = h.dot(Wo) + bo # we only care about this value on the last iteration\n",
        "  Yhats.append(y)\n",
        "  \n",
        "  # important: assign h to h_last\n",
        "  h_last = h\n",
        "\n",
        "# print the final output\n",
        "print(Yhats[-1])"
      ],
      "execution_count": 24,
      "outputs": [
        {
          "output_type": "stream",
          "text": [
            "[0.21894775 1.19865848]\n"
          ],
          "name": "stdout"
        }
      ]
    },
    {
      "cell_type": "code",
      "metadata": {
        "id": "7JXHPnE1fnSh",
        "colab_type": "code",
        "colab": {}
      },
      "source": [
        ""
      ],
      "execution_count": 0,
      "outputs": []
    }
  ]
}