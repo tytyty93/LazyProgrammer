{
  "nbformat": 4,
  "nbformat_minor": 0,
  "metadata": {
    "colab": {
      "name": "LP_ Autoregressive Model.ipynb",
      "provenance": [],
      "authorship_tag": "ABX9TyNInng+rUvMnri7vlQ27GNF",
      "include_colab_link": true
    },
    "kernelspec": {
      "name": "python3",
      "display_name": "Python 3"
    }
  },
  "cells": [
    {
      "cell_type": "markdown",
      "metadata": {
        "id": "view-in-github",
        "colab_type": "text"
      },
      "source": [
        "<a href=\"https://colab.research.google.com/github/tytyty93/LazyProgrammer/blob/master/LP__Autoregressive_Model.ipynb\" target=\"_parent\"><img src=\"https://colab.research.google.com/assets/colab-badge.svg\" alt=\"Open In Colab\"/></a>"
      ]
    },
    {
      "cell_type": "code",
      "metadata": {
        "id": "pHGnAQfnOemS",
        "colab_type": "code",
        "colab": {}
      },
      "source": [
        "import tensorflow as tf\n",
        "import numpy as np\n",
        "import matplotlib.pyplot as plt\n",
        "import pandas as pd"
      ],
      "execution_count": 0,
      "outputs": []
    },
    {
      "cell_type": "code",
      "metadata": {
        "id": "JIDFQb_hOyN8",
        "colab_type": "code",
        "colab": {}
      },
      "source": [
        "from tensorflow.keras.models import Model\n",
        "from tensorflow.keras.layers import Dense, Input\n",
        "from tensorflow.keras.optimizers import SGD, Adam"
      ],
      "execution_count": 0,
      "outputs": []
    },
    {
      "cell_type": "code",
      "metadata": {
        "id": "ZqRPT23NO-B5",
        "colab_type": "code",
        "colab": {}
      },
      "source": [
        "series = np.sin(0.1*np.arange(200)) + np.random.randn(200) *0.1\n",
        "series1 = np.sin(np.arange(200)) # This one will make a lot of curves"
      ],
      "execution_count": 0,
      "outputs": []
    },
    {
      "cell_type": "code",
      "metadata": {
        "id": "p0KGkxeAQ3Io",
        "colab_type": "code",
        "colab": {
          "base_uri": "https://localhost:8080/",
          "height": 265
        },
        "outputId": "225eceae-63b0-477a-d510-0b414e766957"
      },
      "source": [
        "plt.plot(series);\n"
      ],
      "execution_count": 103,
      "outputs": [
        {
          "output_type": "display_data",
          "data": {
            "image/png": "[encoded data removed]",
            "text/plain": [
              "<Figure size 432x288 with 1 Axes>"
            ]
          },
          "metadata": {
            "tags": [],
            "needs_background": "light"
          }
        }
      ]
    },
    {
      "cell_type": "code",
      "metadata": {
        "id": "ZWkj8-mkQ_rP",
        "colab_type": "code",
        "colab": {
          "base_uri": "https://localhost:8080/",
          "height": 68
        },
        "outputId": "7a6bf0bb-810c-409f-a484-356188c56d94"
      },
      "source": [
        "T = 10\n",
        "X = []  # X is a list so cannot do shape\n",
        "Y = []  # Y is also a list at first\n",
        "\n",
        "# We are using the function below to loop through the series to get the X(features) and Y(target)\n",
        "# So after this function, X will contain 190 lists of a time step in the series. 190 of : [0 to 10], [1 to 11], [2 to 12] and Y will be the [11 from the first X1] etc\n",
        "for t in range(len(series) - T):\n",
        "  x = series[t:t+T]\n",
        "  X.append(x) \n",
        "  y = series[t+T]\n",
        "  Y.append(y)\n",
        "\n",
        "X = np.array(X).reshape(-1, T)  # 190 row of 10 features\n",
        "Y = np.array(Y)  # We don't need to reshape this cos the Y is the target liao\n",
        "N = len(X)\n",
        "print(\"X shape is:\", X.shape)\n",
        "print(\"Y shape is:\", Y.shape)\n",
        "print(\"Length of X is:\", N)"
      ],
      "execution_count": 104,
      "outputs": [
        {
          "output_type": "stream",
          "text": [
            "X shape is: (190, 10)\n",
            "Y shape is: (190,)\n",
            "Length of X is: 190\n"
          ],
          "name": "stdout"
        }
      ]
    },
    {
      "cell_type": "markdown",
      "metadata": {
        "id": "fDmTmITiVDpn",
        "colab_type": "text"
      },
      "source": [
        "# Building the Model"
      ]
    },
    {
      "cell_type": "code",
      "metadata": {
        "id": "AooB_Xf3Rvl1",
        "colab_type": "code",
        "colab": {}
      },
      "source": [
        "i = Input(shape=(T,))\n",
        "x = Dense(1)(i)\n",
        "model = Model(i,x)\n",
        "model.compile(loss='mse', optimizer=Adam(lr=0.1))"
      ],
      "execution_count": 0,
      "outputs": []
    },
    {
      "cell_type": "markdown",
      "metadata": {
        "id": "thkfGHS7Vbde",
        "colab_type": "text"
      },
      "source": [
        "# Training the Model"
      ]
    },
    {
      "cell_type": "code",
      "metadata": {
        "id": "KWKA5vLYR0yI",
        "colab_type": "code",
        "colab": {
          "base_uri": "https://localhost:8080/",
          "height": 1000
        },
        "outputId": "00a7fa3b-e001-4d33-d4cb-486113ca05bd"
      },
      "source": [
        "r = model.fit(X[:-N//2],Y[:-N//2], validation_data=(X[-N//2:], Y[-N//2:]), epochs = 80)"
      ],
      "execution_count": 106,
      "outputs": [
        {
          "output_type": "stream",
          "text": [
            "Epoch 1/80\n",
            "3/3 [==============================] - 0s 23ms/step - loss: 0.6760 - val_loss: 0.4515\n",
            "Epoch 2/80\n",
            "3/3 [==============================] - 0s 12ms/step - loss: 0.2830 - val_loss: 0.1064\n",
            "Epoch 3/80\n",
            "3/3 [==============================] - 0s 12ms/step - loss: 0.1120 - val_loss: 0.0472\n",
            "Epoch 4/80\n",
            "3/3 [==============================] - 0s 85ms/step - loss: 0.0390 - val_loss: 0.0530\n",
            "Epoch 5/80\n",
            "3/3 [==============================] - 0s 12ms/step - loss: 0.0758 - val_loss: 0.0662\n",
            "Epoch 6/80\n",
            "3/3 [==============================] - 0s 11ms/step - loss: 0.0803 - val_loss: 0.0786\n",
            "Epoch 7/80\n",
            "3/3 [==============================] - 0s 12ms/step - loss: 0.0867 - val_loss: 0.0568\n",
            "Epoch 8/80\n",
            "3/3 [==============================] - 0s 12ms/step - loss: 0.0573 - val_loss: 0.0425\n",
            "Epoch 9/80\n",
            "3/3 [==============================] - 0s 11ms/step - loss: 0.0417 - val_loss: 0.0250\n",
            "Epoch 10/80\n",
            "3/3 [==============================] - 0s 11ms/step - loss: 0.0297 - val_loss: 0.0259\n",
            "Epoch 11/80\n",
            "3/3 [==============================] - 0s 12ms/step - loss: 0.0307 - val_loss: 0.0256\n",
            "Epoch 12/80\n",
            "3/3 [==============================] - 0s 11ms/step - loss: 0.0357 - val_loss: 0.0302\n",
            "Epoch 13/80\n",
            "3/3 [==============================] - 0s 13ms/step - loss: 0.0347 - val_loss: 0.0261\n",
            "Epoch 14/80\n",
            "3/3 [==============================] - 0s 11ms/step - loss: 0.0306 - val_loss: 0.0206\n",
            "Epoch 15/80\n",
            "3/3 [==============================] - 0s 12ms/step - loss: 0.0260 - val_loss: 0.0181\n",
            "Epoch 16/80\n",
            "3/3 [==============================] - 0s 11ms/step - loss: 0.0228 - val_loss: 0.0203\n",
            "Epoch 17/80\n",
            "3/3 [==============================] - 0s 12ms/step - loss: 0.0257 - val_loss: 0.0192\n",
            "Epoch 18/80\n",
            "3/3 [==============================] - 0s 12ms/step - loss: 0.0255 - val_loss: 0.0196\n",
            "Epoch 19/80\n",
            "3/3 [==============================] - 0s 14ms/step - loss: 0.0254 - val_loss: 0.0176\n",
            "Epoch 20/80\n",
            "3/3 [==============================] - 0s 12ms/step - loss: 0.0214 - val_loss: 0.0172\n",
            "Epoch 21/80\n",
            "3/3 [==============================] - 0s 11ms/step - loss: 0.0213 - val_loss: 0.0162\n",
            "Epoch 22/80\n",
            "3/3 [==============================] - 0s 13ms/step - loss: 0.0204 - val_loss: 0.0159\n",
            "Epoch 23/80\n",
            "3/3 [==============================] - 0s 12ms/step - loss: 0.0197 - val_loss: 0.0160\n",
            "Epoch 24/80\n",
            "3/3 [==============================] - 0s 11ms/step - loss: 0.0195 - val_loss: 0.0154\n",
            "Epoch 25/80\n",
            "3/3 [==============================] - 0s 11ms/step - loss: 0.0190 - val_loss: 0.0149\n",
            "Epoch 26/80\n",
            "3/3 [==============================] - 0s 12ms/step - loss: 0.0193 - val_loss: 0.0155\n",
            "Epoch 27/80\n",
            "3/3 [==============================] - 0s 11ms/step - loss: 0.0200 - val_loss: 0.0150\n",
            "Epoch 28/80\n",
            "3/3 [==============================] - 0s 13ms/step - loss: 0.0197 - val_loss: 0.0162\n",
            "Epoch 29/80\n",
            "3/3 [==============================] - 0s 12ms/step - loss: 0.0176 - val_loss: 0.0158\n",
            "Epoch 30/80\n",
            "3/3 [==============================] - 0s 11ms/step - loss: 0.0189 - val_loss: 0.0140\n",
            "Epoch 31/80\n",
            "3/3 [==============================] - 0s 11ms/step - loss: 0.0167 - val_loss: 0.0143\n",
            "Epoch 32/80\n",
            "3/3 [==============================] - 0s 14ms/step - loss: 0.0168 - val_loss: 0.0137\n",
            "Epoch 33/80\n",
            "3/3 [==============================] - 0s 12ms/step - loss: 0.0173 - val_loss: 0.0135\n",
            "Epoch 34/80\n",
            "3/3 [==============================] - 0s 12ms/step - loss: 0.0168 - val_loss: 0.0142\n",
            "Epoch 35/80\n",
            "3/3 [==============================] - 0s 11ms/step - loss: 0.0188 - val_loss: 0.0135\n",
            "Epoch 36/80\n",
            "3/3 [==============================] - 0s 11ms/step - loss: 0.0160 - val_loss: 0.0146\n",
            "Epoch 37/80\n",
            "3/3 [==============================] - 0s 11ms/step - loss: 0.0168 - val_loss: 0.0134\n",
            "Epoch 38/80\n",
            "3/3 [==============================] - 0s 12ms/step - loss: 0.0157 - val_loss: 0.0137\n",
            "Epoch 39/80\n",
            "3/3 [==============================] - 0s 12ms/step - loss: 0.0167 - val_loss: 0.0134\n",
            "Epoch 40/80\n",
            "3/3 [==============================] - 0s 12ms/step - loss: 0.0163 - val_loss: 0.0134\n",
            "Epoch 41/80\n",
            "3/3 [==============================] - 0s 14ms/step - loss: 0.0156 - val_loss: 0.0130\n",
            "Epoch 42/80\n",
            "3/3 [==============================] - 0s 12ms/step - loss: 0.0154 - val_loss: 0.0128\n",
            "Epoch 43/80\n",
            "3/3 [==============================] - 0s 12ms/step - loss: 0.0150 - val_loss: 0.0129\n",
            "Epoch 44/80\n",
            "3/3 [==============================] - 0s 13ms/step - loss: 0.0157 - val_loss: 0.0129\n",
            "Epoch 45/80\n",
            "3/3 [==============================] - 0s 12ms/step - loss: 0.0151 - val_loss: 0.0132\n",
            "Epoch 46/80\n",
            "3/3 [==============================] - 0s 11ms/step - loss: 0.0169 - val_loss: 0.0127\n",
            "Epoch 47/80\n",
            "3/3 [==============================] - 0s 11ms/step - loss: 0.0150 - val_loss: 0.0132\n",
            "Epoch 48/80\n",
            "3/3 [==============================] - 0s 13ms/step - loss: 0.0147 - val_loss: 0.0137\n",
            "Epoch 49/80\n",
            "3/3 [==============================] - 0s 12ms/step - loss: 0.0153 - val_loss: 0.0133\n",
            "Epoch 50/80\n",
            "3/3 [==============================] - 0s 12ms/step - loss: 0.0164 - val_loss: 0.0130\n",
            "Epoch 51/80\n",
            "3/3 [==============================] - 0s 14ms/step - loss: 0.0156 - val_loss: 0.0130\n",
            "Epoch 52/80\n",
            "3/3 [==============================] - 0s 11ms/step - loss: 0.0161 - val_loss: 0.0128\n",
            "Epoch 53/80\n",
            "3/3 [==============================] - 0s 12ms/step - loss: 0.0180 - val_loss: 0.0127\n",
            "Epoch 54/80\n",
            "3/3 [==============================] - 0s 11ms/step - loss: 0.0147 - val_loss: 0.0157\n",
            "Epoch 55/80\n",
            "3/3 [==============================] - 0s 13ms/step - loss: 0.0148 - val_loss: 0.0154\n",
            "Epoch 56/80\n",
            "3/3 [==============================] - 0s 11ms/step - loss: 0.0165 - val_loss: 0.0146\n",
            "Epoch 57/80\n",
            "3/3 [==============================] - 0s 12ms/step - loss: 0.0174 - val_loss: 0.0128\n",
            "Epoch 58/80\n",
            "3/3 [==============================] - 0s 12ms/step - loss: 0.0159 - val_loss: 0.0130\n",
            "Epoch 59/80\n",
            "3/3 [==============================] - 0s 11ms/step - loss: 0.0150 - val_loss: 0.0128\n",
            "Epoch 60/80\n",
            "3/3 [==============================] - 0s 14ms/step - loss: 0.0166 - val_loss: 0.0133\n",
            "Epoch 61/80\n",
            "3/3 [==============================] - 0s 11ms/step - loss: 0.0144 - val_loss: 0.0126\n",
            "Epoch 62/80\n",
            "3/3 [==============================] - 0s 12ms/step - loss: 0.0143 - val_loss: 0.0126\n",
            "Epoch 63/80\n",
            "3/3 [==============================] - 0s 11ms/step - loss: 0.0142 - val_loss: 0.0128\n",
            "Epoch 64/80\n",
            "3/3 [==============================] - 0s 11ms/step - loss: 0.0142 - val_loss: 0.0128\n",
            "Epoch 65/80\n",
            "3/3 [==============================] - 0s 12ms/step - loss: 0.0157 - val_loss: 0.0132\n",
            "Epoch 66/80\n",
            "3/3 [==============================] - 0s 11ms/step - loss: 0.0155 - val_loss: 0.0127\n",
            "Epoch 67/80\n",
            "3/3 [==============================] - 0s 12ms/step - loss: 0.0152 - val_loss: 0.0140\n",
            "Epoch 68/80\n",
            "3/3 [==============================] - 0s 12ms/step - loss: 0.0150 - val_loss: 0.0135\n",
            "Epoch 69/80\n",
            "3/3 [==============================] - 0s 13ms/step - loss: 0.0160 - val_loss: 0.0129\n",
            "Epoch 70/80\n",
            "3/3 [==============================] - 0s 16ms/step - loss: 0.0146 - val_loss: 0.0131\n",
            "Epoch 71/80\n",
            "3/3 [==============================] - 0s 11ms/step - loss: 0.0146 - val_loss: 0.0133\n",
            "Epoch 72/80\n",
            "3/3 [==============================] - 0s 12ms/step - loss: 0.0143 - val_loss: 0.0126\n",
            "Epoch 73/80\n",
            "3/3 [==============================] - 0s 12ms/step - loss: 0.0142 - val_loss: 0.0128\n",
            "Epoch 74/80\n",
            "3/3 [==============================] - 0s 11ms/step - loss: 0.0149 - val_loss: 0.0132\n",
            "Epoch 75/80\n",
            "3/3 [==============================] - 0s 11ms/step - loss: 0.0145 - val_loss: 0.0131\n",
            "Epoch 76/80\n",
            "3/3 [==============================] - 0s 11ms/step - loss: 0.0154 - val_loss: 0.0130\n",
            "Epoch 77/80\n",
            "3/3 [==============================] - 0s 11ms/step - loss: 0.0151 - val_loss: 0.0132\n",
            "Epoch 78/80\n",
            "3/3 [==============================] - 0s 14ms/step - loss: 0.0171 - val_loss: 0.0127\n",
            "Epoch 79/80\n",
            "3/3 [==============================] - 0s 12ms/step - loss: 0.0149 - val_loss: 0.0133\n",
            "Epoch 80/80\n",
            "3/3 [==============================] - 0s 14ms/step - loss: 0.0155 - val_loss: 0.0133\n"
          ],
          "name": "stdout"
        }
      ]
    },
    {
      "cell_type": "code",
      "metadata": {
        "id": "eOhngMgMV8n9",
        "colab_type": "code",
        "colab": {
          "base_uri": "https://localhost:8080/",
          "height": 267
        },
        "outputId": "560f05b5-2e74-46f0-90fa-0643842403b4"
      },
      "source": [
        "plt.plot(r.history['loss'], label = 'loss')\n",
        "plt.plot(r.history['val_loss'], label = 'val_loss')\n",
        "plt.legend();"
      ],
      "execution_count": 107,
      "outputs": [
        {
          "output_type": "display_data",
          "data": {
            "image/png": "[encoded data removed]",
            "text/plain": [
              "<Figure size 432x288 with 1 Axes>"
            ]
          },
          "metadata": {
            "tags": [],
            "needs_background": "light"
          }
        }
      ]
    },
    {
      "cell_type": "markdown",
      "metadata": {
        "id": "inWNIh6_dTL0",
        "colab_type": "text"
      },
      "source": [
        "# Wrong method to forecast"
      ]
    },
    {
      "cell_type": "code",
      "metadata": {
        "id": "tQF3K3guYhQS",
        "colab_type": "code",
        "colab": {}
      },
      "source": [
        "validation_target = Y[-N//2:]\n",
        "validation_predictions = []\n",
        "\n",
        "i = -N//2 # Index of first validation input\n",
        "\n",
        "while len(validation_target) > len(validation_predictions):\n",
        "  p = model.predict(X[i].reshape(1,-1))[0,0]   # We have to index the array at [0,0] to get the actual scalar value within once the model has predicted an output\n",
        "  i+=1\n",
        "\n",
        "  validation_predictions.append(p)"
      ],
      "execution_count": 0,
      "outputs": []
    },
    {
      "cell_type": "code",
      "metadata": {
        "id": "xvLv4RBBeCD1",
        "colab_type": "code",
        "colab": {
          "base_uri": "https://localhost:8080/",
          "height": 282
        },
        "outputId": "8441c659-6a0d-4a9d-e8da-3dc8c62c35e6"
      },
      "source": [
        "plt.plot(validation_target, label='forecast target')\n",
        "plt.plot(validation_predictions, label='forecast prediction')\n",
        "plt.legend()"
      ],
      "execution_count": 110,
      "outputs": [
        {
          "output_type": "execute_result",
          "data": {
            "text/plain": [
              "<matplotlib.legend.Legend at 0x7f0dc62dc5f8>"
            ]
          },
          "metadata": {
            "tags": []
          },
          "execution_count": 110
        },
        {
          "output_type": "display_data",
          "data": {
            "image/png": "[encoded data removed]",
            "text/plain": [
              "<Figure size 432x288 with 1 Axes>"
            ]
          },
          "metadata": {
            "tags": [],
            "needs_background": "light"
          }
        }
      ]
    },
    {
      "cell_type": "markdown",
      "metadata": {
        "id": "8tTRCUARe4Xo",
        "colab_type": "text"
      },
      "source": [
        "# Correct method of forecasting"
      ]
    },
    {
      "cell_type": "code",
      "metadata": {
        "id": "jywiWsmOeL0X",
        "colab_type": "code",
        "colab": {}
      },
      "source": [
        "validation_target = Y[-N//2:]\n",
        "validation_predictions = []\n",
        "\n",
        "last_x = X[-N//2] # Index of first validation input which is the last half of the X data\n",
        "\n",
        "while len(validation_target) > len(validation_predictions):\n",
        "  p = model.predict(last_x.reshape(1,-1))[0,0]\n",
        "\n",
        "  validation_predictions.append(p)\n",
        "  last_x = np.roll(last_x,-1)  # This code will shift the x to the left by 1 spot\n",
        "  last_x[-1] = p               # Once it has moved back by 1 point, the x at the end is replaced by the predictions and the loop continues\n",
        "\n",
        "\n",
        "  "
      ],
      "execution_count": 0,
      "outputs": []
    },
    {
      "cell_type": "code",
      "metadata": {
        "id": "NSRFnzkDfWNT",
        "colab_type": "code",
        "colab": {
          "base_uri": "https://localhost:8080/",
          "height": 282
        },
        "outputId": "481743fb-8b64-4557-f5e8-01df80665fc2"
      },
      "source": [
        "plt.plot(validation_target, label='forecast target')\n",
        "plt.plot(validation_predictions, label='forecast prediction')\n",
        "plt.legend()"
      ],
      "execution_count": 111,
      "outputs": [
        {
          "output_type": "execute_result",
          "data": {
            "text/plain": [
              "<matplotlib.legend.Legend at 0x7f0dbc5075c0>"
            ]
          },
          "metadata": {
            "tags": []
          },
          "execution_count": 111
        },
        {
          "output_type": "display_data",
          "data": {
            "image/png": "[encoded data removed]",
            "text/plain": [
              "<Figure size 432x288 with 1 Axes>"
            ]
          },
          "metadata": {
            "tags": [],
            "needs_background": "light"
          }
        }
      ]
    },
    {
      "cell_type": "code",
      "metadata": {
        "id": "D_fzE4OtfWkh",
        "colab_type": "code",
        "colab": {
          "base_uri": "https://localhost:8080/",
          "height": 51
        },
        "outputId": "30654298-30c5-4eb2-a794-e69cce654179"
      },
      "source": [
        "X[-1]"
      ],
      "execution_count": 87,
      "outputs": [
        {
          "output_type": "execute_result",
          "data": {
            "text/plain": [
              "array([0.02207794, 0.19631025, 0.37314813, 0.52422532, 0.65692935,\n",
              "       0.54345965, 0.79711985, 0.68758787, 0.77005196, 0.70003898])"
            ]
          },
          "metadata": {
            "tags": []
          },
          "execution_count": 87
        }
      ]
    },
    {
      "cell_type": "code",
      "metadata": {
        "id": "fAmmtZN7hzpZ",
        "colab_type": "code",
        "colab": {
          "base_uri": "https://localhost:8080/",
          "height": 238
        },
        "outputId": "2b63e178-15dd-4823-84a2-c18822d2e847"
      },
      "source": [
        "X"
      ],
      "execution_count": 85,
      "outputs": [
        {
          "output_type": "execute_result",
          "data": {
            "text/plain": [
              "array([[-0.31001845,  0.1459656 ,  0.27692693, ...,  0.63176629,\n",
              "         0.75422123,  0.60579615],\n",
              "       [ 0.1459656 ,  0.27692693,  0.43750384, ...,  0.75422123,\n",
              "         0.60579615,  0.85680137],\n",
              "       [ 0.27692693,  0.43750384,  0.39690544, ...,  0.60579615,\n",
              "         0.85680137,  0.90564451],\n",
              "       ...,\n",
              "       [-0.19377833, -0.14073202,  0.02207794, ...,  0.54345965,\n",
              "         0.79711985,  0.68758787],\n",
              "       [-0.14073202,  0.02207794,  0.19631025, ...,  0.79711985,\n",
              "         0.68758787,  0.77005196],\n",
              "       [ 0.02207794,  0.19631025,  0.37314813, ...,  0.68758787,\n",
              "         0.77005196,  0.70003898]])"
            ]
          },
          "metadata": {
            "tags": []
          },
          "execution_count": 85
        }
      ]
    },
    {
      "cell_type": "code",
      "metadata": {
        "id": "TLq6i2_Eh3pY",
        "colab_type": "code",
        "colab": {
          "base_uri": "https://localhost:8080/",
          "height": 51
        },
        "outputId": "730f0610-acaa-416b-e9f1-ff7f2fbba4a5"
      },
      "source": [
        "X[-1:]"
      ],
      "execution_count": 99,
      "outputs": [
        {
          "output_type": "execute_result",
          "data": {
            "text/plain": [
              "array([[0.02207794, 0.19631025, 0.37314813, 0.52422532, 0.65692935,\n",
              "        0.54345965, 0.79711985, 0.68758787, 0.77005196, 0.70003898]])"
            ]
          },
          "metadata": {
            "tags": []
          },
          "execution_count": 99
        }
      ]
    },
    {
      "cell_type": "code",
      "metadata": {
        "id": "gU9RlyM9iRXH",
        "colab_type": "code",
        "colab": {}
      },
      "source": [
        "X[-]"
      ],
      "execution_count": 0,
      "outputs": []
    }
  ]
}