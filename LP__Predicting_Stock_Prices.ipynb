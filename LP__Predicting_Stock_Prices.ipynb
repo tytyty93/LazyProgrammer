{
  "nbformat": 4,
  "nbformat_minor": 0,
  "metadata": {
    "colab": {
      "name": "LP_ Predicting Stock Prices.ipynb",
      "provenance": [],
      "authorship_tag": "ABX9TyPdoY9aAED/bO8l7vor1kl0",
      "include_colab_link": true
    },
    "kernelspec": {
      "name": "python3",
      "display_name": "Python 3"
    },
    "accelerator": "GPU"
  },
  "cells": [
    {
      "cell_type": "markdown",
      "metadata": {
        "id": "view-in-github",
        "colab_type": "text"
      },
      "source": [
        "<a href=\"https://colab.research.google.com/github/tytyty93/LazyProgrammer/blob/master/LP__Predicting_Stock_Prices.ipynb\" target=\"_parent\"><img src=\"https://colab.research.google.com/assets/colab-badge.svg\" alt=\"Open In Colab\"/></a>"
      ]
    },
    {
      "cell_type": "code",
      "metadata": {
        "id": "-MFLaTo-0h1H",
        "colab_type": "code",
        "colab": {}
      },
      "source": [
        "# More imports\n",
        "from tensorflow.keras.layers import Input, LSTM, GRU, SimpleRNN, Dense, GlobalMaxPool1D\n",
        "from tensorflow.keras.models import Model\n",
        "from tensorflow.keras.optimizers import SGD, Adam\n",
        "\n",
        "import numpy as np\n",
        "import pandas as pd\n",
        "import matplotlib.pyplot as plt\n",
        "from sklearn.preprocessing import StandardScaler"
      ],
      "execution_count": 3,
      "outputs": []
    },
    {
      "cell_type": "code",
      "metadata": {
        "id": "vqbYyoTf3YGW",
        "colab_type": "code",
        "colab": {}
      },
      "source": [
        "df = pd.read_csv('https://raw.githubusercontent.com/lazyprogrammer/machine_learning_examples/master/tf2.0/sbux.csv')"
      ],
      "execution_count": 95,
      "outputs": []
    },
    {
      "cell_type": "code",
      "metadata": {
        "id": "MkmOfXwE3ais",
        "colab_type": "code",
        "colab": {
          "base_uri": "https://localhost:8080/",
          "height": 204
        },
        "outputId": "161d3a64-334c-40f5-9297-133eb6cd9515"
      },
      "source": [
        "df.head()"
      ],
      "execution_count": 5,
      "outputs": [
        {
          "output_type": "execute_result",
          "data": {
            "text/html": [
              "<div>\n",
              "<style scoped>\n",
              "    .dataframe tbody tr th:only-of-type {\n",
              "        vertical-align: middle;\n",
              "    }\n",
              "\n",
              "    .dataframe tbody tr th {\n",
              "        vertical-align: top;\n",
              "    }\n",
              "\n",
              "    .dataframe thead th {\n",
              "        text-align: right;\n",
              "    }\n",
              "</style>\n",
              "<table border=\"1\" class=\"dataframe\">\n",
              "  <thead>\n",
              "    <tr style=\"text-align: right;\">\n",
              "      <th></th>\n",
              "      <th>date</th>\n",
              "      <th>open</th>\n",
              "      <th>high</th>\n",
              "      <th>low</th>\n",
              "      <th>close</th>\n",
              "      <th>volume</th>\n",
              "      <th>Name</th>\n",
              "    </tr>\n",
              "  </thead>\n",
              "  <tbody>\n",
              "    <tr>\n",
              "      <th>0</th>\n",
              "      <td>2013-02-08</td>\n",
              "      <td>27.920</td>\n",
              "      <td>28.325</td>\n",
              "      <td>27.920</td>\n",
              "      <td>28.185</td>\n",
              "      <td>7146296</td>\n",
              "      <td>SBUX</td>\n",
              "    </tr>\n",
              "    <tr>\n",
              "      <th>1</th>\n",
              "      <td>2013-02-11</td>\n",
              "      <td>28.260</td>\n",
              "      <td>28.260</td>\n",
              "      <td>27.930</td>\n",
              "      <td>28.070</td>\n",
              "      <td>5457354</td>\n",
              "      <td>SBUX</td>\n",
              "    </tr>\n",
              "    <tr>\n",
              "      <th>2</th>\n",
              "      <td>2013-02-12</td>\n",
              "      <td>28.000</td>\n",
              "      <td>28.275</td>\n",
              "      <td>27.975</td>\n",
              "      <td>28.130</td>\n",
              "      <td>8665592</td>\n",
              "      <td>SBUX</td>\n",
              "    </tr>\n",
              "    <tr>\n",
              "      <th>3</th>\n",
              "      <td>2013-02-13</td>\n",
              "      <td>28.230</td>\n",
              "      <td>28.230</td>\n",
              "      <td>27.750</td>\n",
              "      <td>27.915</td>\n",
              "      <td>7022056</td>\n",
              "      <td>SBUX</td>\n",
              "    </tr>\n",
              "    <tr>\n",
              "      <th>4</th>\n",
              "      <td>2013-02-14</td>\n",
              "      <td>27.765</td>\n",
              "      <td>27.905</td>\n",
              "      <td>27.675</td>\n",
              "      <td>27.775</td>\n",
              "      <td>8899188</td>\n",
              "      <td>SBUX</td>\n",
              "    </tr>\n",
              "  </tbody>\n",
              "</table>\n",
              "</div>"
            ],
            "text/plain": [
              "         date    open    high     low   close   volume  Name\n",
              "0  2013-02-08  27.920  28.325  27.920  28.185  7146296  SBUX\n",
              "1  2013-02-11  28.260  28.260  27.930  28.070  5457354  SBUX\n",
              "2  2013-02-12  28.000  28.275  27.975  28.130  8665592  SBUX\n",
              "3  2013-02-13  28.230  28.230  27.750  27.915  7022056  SBUX\n",
              "4  2013-02-14  27.765  27.905  27.675  27.775  8899188  SBUX"
            ]
          },
          "metadata": {
            "tags": []
          },
          "execution_count": 5
        }
      ]
    },
    {
      "cell_type": "code",
      "metadata": {
        "id": "m1NBlzDl3bKI",
        "colab_type": "code",
        "colab": {
          "base_uri": "https://localhost:8080/",
          "height": 204
        },
        "outputId": "f274b895-86e7-4ec0-a757-f3301a5da983"
      },
      "source": [
        "df.tail()"
      ],
      "execution_count": 6,
      "outputs": [
        {
          "output_type": "execute_result",
          "data": {
            "text/html": [
              "<div>\n",
              "<style scoped>\n",
              "    .dataframe tbody tr th:only-of-type {\n",
              "        vertical-align: middle;\n",
              "    }\n",
              "\n",
              "    .dataframe tbody tr th {\n",
              "        vertical-align: top;\n",
              "    }\n",
              "\n",
              "    .dataframe thead th {\n",
              "        text-align: right;\n",
              "    }\n",
              "</style>\n",
              "<table border=\"1\" class=\"dataframe\">\n",
              "  <thead>\n",
              "    <tr style=\"text-align: right;\">\n",
              "      <th></th>\n",
              "      <th>date</th>\n",
              "      <th>open</th>\n",
              "      <th>high</th>\n",
              "      <th>low</th>\n",
              "      <th>close</th>\n",
              "      <th>volume</th>\n",
              "      <th>Name</th>\n",
              "    </tr>\n",
              "  </thead>\n",
              "  <tbody>\n",
              "    <tr>\n",
              "      <th>1254</th>\n",
              "      <td>2018-02-01</td>\n",
              "      <td>56.280</td>\n",
              "      <td>56.42</td>\n",
              "      <td>55.89</td>\n",
              "      <td>56.00</td>\n",
              "      <td>14690146</td>\n",
              "      <td>SBUX</td>\n",
              "    </tr>\n",
              "    <tr>\n",
              "      <th>1255</th>\n",
              "      <td>2018-02-02</td>\n",
              "      <td>55.900</td>\n",
              "      <td>56.32</td>\n",
              "      <td>55.70</td>\n",
              "      <td>55.77</td>\n",
              "      <td>15358909</td>\n",
              "      <td>SBUX</td>\n",
              "    </tr>\n",
              "    <tr>\n",
              "      <th>1256</th>\n",
              "      <td>2018-02-05</td>\n",
              "      <td>55.530</td>\n",
              "      <td>56.26</td>\n",
              "      <td>54.57</td>\n",
              "      <td>54.69</td>\n",
              "      <td>16059955</td>\n",
              "      <td>SBUX</td>\n",
              "    </tr>\n",
              "    <tr>\n",
              "      <th>1257</th>\n",
              "      <td>2018-02-06</td>\n",
              "      <td>53.685</td>\n",
              "      <td>56.06</td>\n",
              "      <td>53.56</td>\n",
              "      <td>55.61</td>\n",
              "      <td>17415065</td>\n",
              "      <td>SBUX</td>\n",
              "    </tr>\n",
              "    <tr>\n",
              "      <th>1258</th>\n",
              "      <td>2018-02-07</td>\n",
              "      <td>55.080</td>\n",
              "      <td>55.43</td>\n",
              "      <td>54.44</td>\n",
              "      <td>54.46</td>\n",
              "      <td>13927022</td>\n",
              "      <td>SBUX</td>\n",
              "    </tr>\n",
              "  </tbody>\n",
              "</table>\n",
              "</div>"
            ],
            "text/plain": [
              "            date    open   high    low  close    volume  Name\n",
              "1254  2018-02-01  56.280  56.42  55.89  56.00  14690146  SBUX\n",
              "1255  2018-02-02  55.900  56.32  55.70  55.77  15358909  SBUX\n",
              "1256  2018-02-05  55.530  56.26  54.57  54.69  16059955  SBUX\n",
              "1257  2018-02-06  53.685  56.06  53.56  55.61  17415065  SBUX\n",
              "1258  2018-02-07  55.080  55.43  54.44  54.46  13927022  SBUX"
            ]
          },
          "metadata": {
            "tags": []
          },
          "execution_count": 6
        }
      ]
    },
    {
      "cell_type": "markdown",
      "metadata": {
        "id": "VF_AmSIM4A_x",
        "colab_type": "text"
      },
      "source": [
        "# Wrong Method"
      ]
    },
    {
      "cell_type": "code",
      "metadata": {
        "id": "B6kx72wb3nHd",
        "colab_type": "code",
        "colab": {}
      },
      "source": [
        "series = df['close'].values.reshape(-1,1)"
      ],
      "execution_count": 32,
      "outputs": []
    },
    {
      "cell_type": "markdown",
      "metadata": {
        "id": "gP7-ArqU5Uh-",
        "colab_type": "text"
      },
      "source": [
        "# Scaling the Data"
      ]
    },
    {
      "cell_type": "code",
      "metadata": {
        "id": "nDbdhEzt4HqU",
        "colab_type": "code",
        "colab": {
          "base_uri": "https://localhost:8080/",
          "height": 51
        },
        "outputId": "be8c9c28-9866-459c-cd31-70a9c1f0f9a5"
      },
      "source": [
        "print(\"series's shape before flatten: \", series.shape)\n",
        "scaler = StandardScaler()\n",
        "scaler.fit(series[:len(series)//2])\n",
        "series = scaler.transform(series).flatten()\n",
        "print(\"series's shape after flatten: \", series.shape)\n",
        "\n"
      ],
      "execution_count": 33,
      "outputs": [
        {
          "output_type": "stream",
          "text": [
            "series's shape before flatten:  (1259, 1)\n",
            "series's shape after flatten:  (1259,)\n"
          ],
          "name": "stdout"
        }
      ]
    },
    {
      "cell_type": "markdown",
      "metadata": {
        "id": "PlTa9nyt7LbX",
        "colab_type": "text"
      },
      "source": [
        "# Getting the X and Y datas"
      ]
    },
    {
      "cell_type": "code",
      "metadata": {
        "id": "-4zuVKGb4Si3",
        "colab_type": "code",
        "colab": {
          "base_uri": "https://localhost:8080/",
          "height": 34
        },
        "outputId": "35a2e723-5de3-46a6-9f70-bf94327695b9"
      },
      "source": [
        "T = 10\n",
        "D = 1\n",
        "X = []\n",
        "Y = []\n",
        "\n",
        "for t in range(len(series)-T):\n",
        "  x = series[t:t+T]\n",
        "  X.append(x)\n",
        "  y = series[t+T]\n",
        "  Y.append(y)\n",
        "\n",
        "X = np.array(X).reshape(-1,T,1)\n",
        "Y = np.array(Y)\n",
        "N = len(x)\n",
        "print(\"X.shape\", X.shape, \"Y.shape\", Y.shape)"
      ],
      "execution_count": 34,
      "outputs": [
        {
          "output_type": "stream",
          "text": [
            "X.shape (1249, 10, 1) Y.shape (1249,)\n"
          ],
          "name": "stdout"
        }
      ]
    },
    {
      "cell_type": "markdown",
      "metadata": {
        "id": "4ZgYjeh97QCy",
        "colab_type": "text"
      },
      "source": [
        "# Building the Model"
      ]
    },
    {
      "cell_type": "code",
      "metadata": {
        "id": "VyFzNem_7Rni",
        "colab_type": "code",
        "colab": {}
      },
      "source": [
        "i = Input(shape = (T,1))\n",
        "x = LSTM(5)(i)\n",
        "x = Dense(1)(x)\n",
        "\n",
        "model = Model(i,x)\n",
        "\n",
        "model.compile(optimizer = Adam(lr=0.01), loss = 'mse')"
      ],
      "execution_count": 35,
      "outputs": []
    },
    {
      "cell_type": "markdown",
      "metadata": {
        "id": "hfDFP-_n7qUh",
        "colab_type": "text"
      },
      "source": [
        "# Training the Model"
      ]
    },
    {
      "cell_type": "code",
      "metadata": {
        "id": "Y9csoBi67qbZ",
        "colab_type": "code",
        "colab": {
          "base_uri": "https://localhost:8080/",
          "height": 1000
        },
        "outputId": "d3c47985-55e5-486c-9b6a-3f045ea20800"
      },
      "source": [
        "r = model.fit(X[:-N//2], Y[:-N//2], validation_data = (X[-N//2:], Y[-N//2:]), epochs = 80)\n",
        "# r = model.fit(X[:-N//2], Y[:-N//2],epochs=80,validation_data=(X[-N//2:], Y[-N//2:]),)"
      ],
      "execution_count": 41,
      "outputs": [
        {
          "output_type": "stream",
          "text": [
            "Epoch 1/80\n",
            "39/39 [==============================] - 1s 16ms/step - loss: 1.1099 - val_loss: 0.1048\n",
            "Epoch 2/80\n",
            "39/39 [==============================] - 0s 5ms/step - loss: 0.1130 - val_loss: 0.0520\n",
            "Epoch 3/80\n",
            "39/39 [==============================] - 0s 5ms/step - loss: 0.0338 - val_loss: 0.0753\n",
            "Epoch 4/80\n",
            "39/39 [==============================] - 0s 5ms/step - loss: 0.0226 - val_loss: 0.0833\n",
            "Epoch 5/80\n",
            "39/39 [==============================] - 0s 5ms/step - loss: 0.0194 - val_loss: 0.0566\n",
            "Epoch 6/80\n",
            "39/39 [==============================] - 0s 6ms/step - loss: 0.0169 - val_loss: 0.0396\n",
            "Epoch 7/80\n",
            "39/39 [==============================] - 0s 5ms/step - loss: 0.0158 - val_loss: 0.0301\n",
            "Epoch 8/80\n",
            "39/39 [==============================] - 0s 5ms/step - loss: 0.0146 - val_loss: 0.0398\n",
            "Epoch 9/80\n",
            "39/39 [==============================] - 0s 5ms/step - loss: 0.0139 - val_loss: 0.0243\n",
            "Epoch 10/80\n",
            "39/39 [==============================] - 0s 5ms/step - loss: 0.0135 - val_loss: 0.0261\n",
            "Epoch 11/80\n",
            "39/39 [==============================] - 0s 5ms/step - loss: 0.0132 - val_loss: 0.0253\n",
            "Epoch 12/80\n",
            "39/39 [==============================] - 0s 5ms/step - loss: 0.0127 - val_loss: 0.0268\n",
            "Epoch 13/80\n",
            "39/39 [==============================] - 0s 5ms/step - loss: 0.0126 - val_loss: 0.0241\n",
            "Epoch 14/80\n",
            "39/39 [==============================] - 0s 5ms/step - loss: 0.0124 - val_loss: 0.0148\n",
            "Epoch 15/80\n",
            "39/39 [==============================] - 0s 5ms/step - loss: 0.0118 - val_loss: 0.0074\n",
            "Epoch 16/80\n",
            "39/39 [==============================] - 0s 5ms/step - loss: 0.0121 - val_loss: 0.0107\n",
            "Epoch 17/80\n",
            "39/39 [==============================] - 0s 6ms/step - loss: 0.0116 - val_loss: 0.0161\n",
            "Epoch 18/80\n",
            "39/39 [==============================] - 0s 5ms/step - loss: 0.0111 - val_loss: 0.0207\n",
            "Epoch 19/80\n",
            "39/39 [==============================] - 0s 5ms/step - loss: 0.0110 - val_loss: 0.0090\n",
            "Epoch 20/80\n",
            "39/39 [==============================] - 0s 5ms/step - loss: 0.0110 - val_loss: 0.0180\n",
            "Epoch 21/80\n",
            "39/39 [==============================] - 0s 6ms/step - loss: 0.0108 - val_loss: 0.0072\n",
            "Epoch 22/80\n",
            "39/39 [==============================] - 0s 8ms/step - loss: 0.0105 - val_loss: 0.0177\n",
            "Epoch 23/80\n",
            "39/39 [==============================] - 0s 5ms/step - loss: 0.0107 - val_loss: 0.0243\n",
            "Epoch 24/80\n",
            "39/39 [==============================] - 0s 5ms/step - loss: 0.0107 - val_loss: 0.0075\n",
            "Epoch 25/80\n",
            "39/39 [==============================] - 0s 5ms/step - loss: 0.0102 - val_loss: 0.0122\n",
            "Epoch 26/80\n",
            "39/39 [==============================] - 0s 5ms/step - loss: 0.0097 - val_loss: 0.0193\n",
            "Epoch 27/80\n",
            "39/39 [==============================] - 0s 5ms/step - loss: 0.0096 - val_loss: 0.0129\n",
            "Epoch 28/80\n",
            "39/39 [==============================] - 0s 6ms/step - loss: 0.0095 - val_loss: 0.0191\n",
            "Epoch 29/80\n",
            "39/39 [==============================] - 0s 6ms/step - loss: 0.0097 - val_loss: 0.0205\n",
            "Epoch 30/80\n",
            "39/39 [==============================] - 0s 6ms/step - loss: 0.0094 - val_loss: 0.0151\n",
            "Epoch 31/80\n",
            "39/39 [==============================] - 0s 6ms/step - loss: 0.0091 - val_loss: 0.0142\n",
            "Epoch 32/80\n",
            "39/39 [==============================] - 0s 6ms/step - loss: 0.0089 - val_loss: 0.0219\n",
            "Epoch 33/80\n",
            "39/39 [==============================] - 0s 5ms/step - loss: 0.0092 - val_loss: 0.0163\n",
            "Epoch 34/80\n",
            "39/39 [==============================] - 0s 5ms/step - loss: 0.0088 - val_loss: 0.0137\n",
            "Epoch 35/80\n",
            "39/39 [==============================] - 0s 5ms/step - loss: 0.0092 - val_loss: 0.0152\n",
            "Epoch 36/80\n",
            "39/39 [==============================] - 0s 5ms/step - loss: 0.0087 - val_loss: 0.0224\n",
            "Epoch 37/80\n",
            "39/39 [==============================] - 0s 5ms/step - loss: 0.0087 - val_loss: 0.0123\n",
            "Epoch 38/80\n",
            "39/39 [==============================] - 0s 5ms/step - loss: 0.0089 - val_loss: 0.0190\n",
            "Epoch 39/80\n",
            "39/39 [==============================] - 0s 6ms/step - loss: 0.0086 - val_loss: 0.0195\n",
            "Epoch 40/80\n",
            "39/39 [==============================] - 0s 5ms/step - loss: 0.0086 - val_loss: 0.0135\n",
            "Epoch 41/80\n",
            "39/39 [==============================] - 0s 5ms/step - loss: 0.0088 - val_loss: 0.0140\n",
            "Epoch 42/80\n",
            "39/39 [==============================] - 0s 5ms/step - loss: 0.0085 - val_loss: 0.0218\n",
            "Epoch 43/80\n",
            "39/39 [==============================] - 0s 5ms/step - loss: 0.0085 - val_loss: 0.0114\n",
            "Epoch 44/80\n",
            "39/39 [==============================] - 0s 5ms/step - loss: 0.0090 - val_loss: 0.0190\n",
            "Epoch 45/80\n",
            "39/39 [==============================] - 0s 5ms/step - loss: 0.0082 - val_loss: 0.0186\n",
            "Epoch 46/80\n",
            "39/39 [==============================] - 0s 5ms/step - loss: 0.0086 - val_loss: 0.0185\n",
            "Epoch 47/80\n",
            "39/39 [==============================] - 0s 6ms/step - loss: 0.0085 - val_loss: 0.0187\n",
            "Epoch 48/80\n",
            "39/39 [==============================] - 0s 6ms/step - loss: 0.0082 - val_loss: 0.0194\n",
            "Epoch 49/80\n",
            "39/39 [==============================] - 0s 5ms/step - loss: 0.0093 - val_loss: 0.0251\n",
            "Epoch 50/80\n",
            "39/39 [==============================] - 0s 5ms/step - loss: 0.0086 - val_loss: 0.0151\n",
            "Epoch 51/80\n",
            "39/39 [==============================] - 0s 5ms/step - loss: 0.0083 - val_loss: 0.0178\n",
            "Epoch 52/80\n",
            "39/39 [==============================] - 0s 5ms/step - loss: 0.0087 - val_loss: 0.0154\n",
            "Epoch 53/80\n",
            "39/39 [==============================] - 0s 6ms/step - loss: 0.0085 - val_loss: 0.0147\n",
            "Epoch 54/80\n",
            "39/39 [==============================] - 0s 5ms/step - loss: 0.0086 - val_loss: 0.0181\n",
            "Epoch 55/80\n",
            "39/39 [==============================] - 0s 5ms/step - loss: 0.0083 - val_loss: 0.0176\n",
            "Epoch 56/80\n",
            "39/39 [==============================] - 0s 5ms/step - loss: 0.0085 - val_loss: 0.0216\n",
            "Epoch 57/80\n",
            "39/39 [==============================] - 0s 6ms/step - loss: 0.0081 - val_loss: 0.0205\n",
            "Epoch 58/80\n",
            "39/39 [==============================] - 0s 5ms/step - loss: 0.0083 - val_loss: 0.0205\n",
            "Epoch 59/80\n",
            "39/39 [==============================] - 0s 5ms/step - loss: 0.0083 - val_loss: 0.0253\n",
            "Epoch 60/80\n",
            "39/39 [==============================] - 0s 5ms/step - loss: 0.0083 - val_loss: 0.0211\n",
            "Epoch 61/80\n",
            "39/39 [==============================] - 0s 5ms/step - loss: 0.0084 - val_loss: 0.0263\n",
            "Epoch 62/80\n",
            "39/39 [==============================] - 0s 5ms/step - loss: 0.0083 - val_loss: 0.0204\n",
            "Epoch 63/80\n",
            "39/39 [==============================] - 0s 5ms/step - loss: 0.0087 - val_loss: 0.0169\n",
            "Epoch 64/80\n",
            "39/39 [==============================] - 0s 5ms/step - loss: 0.0086 - val_loss: 0.0231\n",
            "Epoch 65/80\n",
            "39/39 [==============================] - 0s 5ms/step - loss: 0.0083 - val_loss: 0.0162\n",
            "Epoch 66/80\n",
            "39/39 [==============================] - 0s 5ms/step - loss: 0.0081 - val_loss: 0.0249\n",
            "Epoch 67/80\n",
            "39/39 [==============================] - 0s 5ms/step - loss: 0.0083 - val_loss: 0.0150\n",
            "Epoch 68/80\n",
            "39/39 [==============================] - 0s 5ms/step - loss: 0.0083 - val_loss: 0.0182\n",
            "Epoch 69/80\n",
            "39/39 [==============================] - 0s 5ms/step - loss: 0.0083 - val_loss: 0.0201\n",
            "Epoch 70/80\n",
            "39/39 [==============================] - 0s 5ms/step - loss: 0.0084 - val_loss: 0.0244\n",
            "Epoch 71/80\n",
            "39/39 [==============================] - 0s 5ms/step - loss: 0.0081 - val_loss: 0.0182\n",
            "Epoch 72/80\n",
            "39/39 [==============================] - 0s 5ms/step - loss: 0.0081 - val_loss: 0.0226\n",
            "Epoch 73/80\n",
            "39/39 [==============================] - 0s 5ms/step - loss: 0.0086 - val_loss: 0.0178\n",
            "Epoch 74/80\n",
            "39/39 [==============================] - 0s 5ms/step - loss: 0.0082 - val_loss: 0.0165\n",
            "Epoch 75/80\n",
            "39/39 [==============================] - 0s 5ms/step - loss: 0.0089 - val_loss: 0.0160\n",
            "Epoch 76/80\n",
            "39/39 [==============================] - 0s 6ms/step - loss: 0.0082 - val_loss: 0.0180\n",
            "Epoch 77/80\n",
            "39/39 [==============================] - 0s 5ms/step - loss: 0.0084 - val_loss: 0.0197\n",
            "Epoch 78/80\n",
            "39/39 [==============================] - 0s 5ms/step - loss: 0.0085 - val_loss: 0.0194\n",
            "Epoch 79/80\n",
            "39/39 [==============================] - 0s 5ms/step - loss: 0.0082 - val_loss: 0.0191\n",
            "Epoch 80/80\n",
            "39/39 [==============================] - 0s 5ms/step - loss: 0.0082 - val_loss: 0.0223\n"
          ],
          "name": "stdout"
        }
      ]
    },
    {
      "cell_type": "code",
      "metadata": {
        "id": "gva76pmw8A5K",
        "colab_type": "code",
        "colab": {
          "base_uri": "https://localhost:8080/",
          "height": 282
        },
        "outputId": "b1915b8d-740c-4cc3-e8cf-1170d6f9cc88"
      },
      "source": [
        "# Plot loss per iteration\n",
        "import matplotlib.pyplot as plt\n",
        "plt.plot(r.history['loss'], label='loss')\n",
        "plt.plot(r.history['val_loss'], label='val_loss')\n",
        "plt.legend()"
      ],
      "execution_count": 42,
      "outputs": [
        {
          "output_type": "execute_result",
          "data": {
            "text/plain": [
              "<matplotlib.legend.Legend at 0x7f7a4db3fc50>"
            ]
          },
          "metadata": {
            "tags": []
          },
          "execution_count": 42
        },
        {
          "output_type": "display_data",
          "data": {
            "image/png": "[encoded data removed]",
            "text/plain": [
              "<Figure size 432x288 with 1 Axes>"
            ]
          },
          "metadata": {
            "tags": [],
            "needs_background": "light"
          }
        }
      ]
    },
    {
      "cell_type": "code",
      "metadata": {
        "id": "N_nQ5GQN8xUK",
        "colab_type": "code",
        "colab": {
          "base_uri": "https://localhost:8080/",
          "height": 299
        },
        "outputId": "16debde4-958d-475e-935c-cb8bb621f65f"
      },
      "source": [
        "outputs = model.predict(X)\n",
        "print(outputs.shape)\n",
        "predictions = outputs[:,0]\n",
        "\n",
        "plt.plot(Y, label = 'targets')\n",
        "plt.plot(predictions, label = 'predictions')\n",
        "plt.show\n",
        "plt.legend()"
      ],
      "execution_count": 46,
      "outputs": [
        {
          "output_type": "stream",
          "text": [
            "(1249, 1)\n"
          ],
          "name": "stdout"
        },
        {
          "output_type": "execute_result",
          "data": {
            "text/plain": [
              "<matplotlib.legend.Legend at 0x7f7a4e38c630>"
            ]
          },
          "metadata": {
            "tags": []
          },
          "execution_count": 46
        },
        {
          "output_type": "display_data",
          "data": {
            "image/png": "[encoded data removed]",
            "text/plain": [
              "<Figure size 432x288 with 1 Axes>"
            ]
          },
          "metadata": {
            "tags": [],
            "needs_background": "light"
          }
        }
      ]
    },
    {
      "cell_type": "code",
      "metadata": {
        "id": "U7HZNah69EB1",
        "colab_type": "code",
        "colab": {
          "base_uri": "https://localhost:8080/",
          "height": 282
        },
        "outputId": "8f907009-d6f4-4c02-a5f2-d09ae29503d7"
      },
      "source": [
        "# Multi-step forecast\n",
        "validation_target = Y[-N//2:]\n",
        "validation_predictions = []\n",
        "\n",
        "# first validation input\n",
        "last_x = X[-N//2] # 1-D array of length T\n",
        "\n",
        "while len(validation_predictions) < len(validation_target):\n",
        "  p = model.predict(last_x.reshape(1, T, 1))[0,0] # 1x1 array -> scalar\n",
        "  \n",
        "  # update the predictions list\n",
        "  validation_predictions.append(p)\n",
        "  \n",
        "  # make the new input\n",
        "  last_x = np.roll(last_x, -1)\n",
        "  last_x[-1] = p\n",
        "\n",
        "plt.plot(validation_target, label='forecast target')\n",
        "plt.plot(validation_predictions, label='forecast prediction')\n",
        "plt.legend()"
      ],
      "execution_count": 48,
      "outputs": [
        {
          "output_type": "execute_result",
          "data": {
            "text/plain": [
              "<matplotlib.legend.Legend at 0x7f7a4e261780>"
            ]
          },
          "metadata": {
            "tags": []
          },
          "execution_count": 48
        },
        {
          "output_type": "display_data",
          "data": {
            "image/png": "[encoded data removed]",
            "text/plain": [
              "<Figure size 432x288 with 1 Axes>"
            ]
          },
          "metadata": {
            "tags": [],
            "needs_background": "light"
          }
        }
      ]
    },
    {
      "cell_type": "code",
      "metadata": {
        "id": "s3k_KTRs9y4W",
        "colab_type": "code",
        "colab": {
          "base_uri": "https://localhost:8080/",
          "height": 204
        },
        "outputId": "9d17b483-b006-4542-8694-e4a9aa1737ef"
      },
      "source": [
        "df.head()"
      ],
      "execution_count": 49,
      "outputs": [
        {
          "output_type": "execute_result",
          "data": {
            "text/html": [
              "<div>\n",
              "<style scoped>\n",
              "    .dataframe tbody tr th:only-of-type {\n",
              "        vertical-align: middle;\n",
              "    }\n",
              "\n",
              "    .dataframe tbody tr th {\n",
              "        vertical-align: top;\n",
              "    }\n",
              "\n",
              "    .dataframe thead th {\n",
              "        text-align: right;\n",
              "    }\n",
              "</style>\n",
              "<table border=\"1\" class=\"dataframe\">\n",
              "  <thead>\n",
              "    <tr style=\"text-align: right;\">\n",
              "      <th></th>\n",
              "      <th>date</th>\n",
              "      <th>open</th>\n",
              "      <th>high</th>\n",
              "      <th>low</th>\n",
              "      <th>close</th>\n",
              "      <th>volume</th>\n",
              "      <th>Name</th>\n",
              "    </tr>\n",
              "  </thead>\n",
              "  <tbody>\n",
              "    <tr>\n",
              "      <th>0</th>\n",
              "      <td>2013-02-08</td>\n",
              "      <td>27.920</td>\n",
              "      <td>28.325</td>\n",
              "      <td>27.920</td>\n",
              "      <td>28.185</td>\n",
              "      <td>7146296</td>\n",
              "      <td>SBUX</td>\n",
              "    </tr>\n",
              "    <tr>\n",
              "      <th>1</th>\n",
              "      <td>2013-02-11</td>\n",
              "      <td>28.260</td>\n",
              "      <td>28.260</td>\n",
              "      <td>27.930</td>\n",
              "      <td>28.070</td>\n",
              "      <td>5457354</td>\n",
              "      <td>SBUX</td>\n",
              "    </tr>\n",
              "    <tr>\n",
              "      <th>2</th>\n",
              "      <td>2013-02-12</td>\n",
              "      <td>28.000</td>\n",
              "      <td>28.275</td>\n",
              "      <td>27.975</td>\n",
              "      <td>28.130</td>\n",
              "      <td>8665592</td>\n",
              "      <td>SBUX</td>\n",
              "    </tr>\n",
              "    <tr>\n",
              "      <th>3</th>\n",
              "      <td>2013-02-13</td>\n",
              "      <td>28.230</td>\n",
              "      <td>28.230</td>\n",
              "      <td>27.750</td>\n",
              "      <td>27.915</td>\n",
              "      <td>7022056</td>\n",
              "      <td>SBUX</td>\n",
              "    </tr>\n",
              "    <tr>\n",
              "      <th>4</th>\n",
              "      <td>2013-02-14</td>\n",
              "      <td>27.765</td>\n",
              "      <td>27.905</td>\n",
              "      <td>27.675</td>\n",
              "      <td>27.775</td>\n",
              "      <td>8899188</td>\n",
              "      <td>SBUX</td>\n",
              "    </tr>\n",
              "  </tbody>\n",
              "</table>\n",
              "</div>"
            ],
            "text/plain": [
              "         date    open    high     low   close   volume  Name\n",
              "0  2013-02-08  27.920  28.325  27.920  28.185  7146296  SBUX\n",
              "1  2013-02-11  28.260  28.260  27.930  28.070  5457354  SBUX\n",
              "2  2013-02-12  28.000  28.275  27.975  28.130  8665592  SBUX\n",
              "3  2013-02-13  28.230  28.230  27.750  27.915  7022056  SBUX\n",
              "4  2013-02-14  27.765  27.905  27.675  27.775  8899188  SBUX"
            ]
          },
          "metadata": {
            "tags": []
          },
          "execution_count": 49
        }
      ]
    },
    {
      "cell_type": "code",
      "metadata": {
        "id": "xlmpE7jZCKd7",
        "colab_type": "code",
        "colab": {}
      },
      "source": [
        "df['prev_close'] = df['close'].shift(1)"
      ],
      "execution_count": 96,
      "outputs": []
    },
    {
      "cell_type": "code",
      "metadata": {
        "id": "aZjSO_TaCTeb",
        "colab_type": "code",
        "colab": {}
      },
      "source": [
        "df['Return'] = (df['close'] - df['prev_close'])/df['close']"
      ],
      "execution_count": 97,
      "outputs": []
    },
    {
      "cell_type": "code",
      "metadata": {
        "id": "kUMUs9mkCuLb",
        "colab_type": "code",
        "colab": {
          "base_uri": "https://localhost:8080/",
          "height": 204
        },
        "outputId": "67183e32-3d24-419e-fedb-ee46e3a0aea2"
      },
      "source": [
        "df.head()"
      ],
      "execution_count": 98,
      "outputs": [
        {
          "output_type": "execute_result",
          "data": {
            "text/html": [
              "<div>\n",
              "<style scoped>\n",
              "    .dataframe tbody tr th:only-of-type {\n",
              "        vertical-align: middle;\n",
              "    }\n",
              "\n",
              "    .dataframe tbody tr th {\n",
              "        vertical-align: top;\n",
              "    }\n",
              "\n",
              "    .dataframe thead th {\n",
              "        text-align: right;\n",
              "    }\n",
              "</style>\n",
              "<table border=\"1\" class=\"dataframe\">\n",
              "  <thead>\n",
              "    <tr style=\"text-align: right;\">\n",
              "      <th></th>\n",
              "      <th>date</th>\n",
              "      <th>open</th>\n",
              "      <th>high</th>\n",
              "      <th>low</th>\n",
              "      <th>close</th>\n",
              "      <th>volume</th>\n",
              "      <th>Name</th>\n",
              "      <th>prev_close</th>\n",
              "      <th>Return</th>\n",
              "    </tr>\n",
              "  </thead>\n",
              "  <tbody>\n",
              "    <tr>\n",
              "      <th>0</th>\n",
              "      <td>2013-02-08</td>\n",
              "      <td>27.920</td>\n",
              "      <td>28.325</td>\n",
              "      <td>27.920</td>\n",
              "      <td>28.185</td>\n",
              "      <td>7146296</td>\n",
              "      <td>SBUX</td>\n",
              "      <td>NaN</td>\n",
              "      <td>NaN</td>\n",
              "    </tr>\n",
              "    <tr>\n",
              "      <th>1</th>\n",
              "      <td>2013-02-11</td>\n",
              "      <td>28.260</td>\n",
              "      <td>28.260</td>\n",
              "      <td>27.930</td>\n",
              "      <td>28.070</td>\n",
              "      <td>5457354</td>\n",
              "      <td>SBUX</td>\n",
              "      <td>28.185</td>\n",
              "      <td>-0.004097</td>\n",
              "    </tr>\n",
              "    <tr>\n",
              "      <th>2</th>\n",
              "      <td>2013-02-12</td>\n",
              "      <td>28.000</td>\n",
              "      <td>28.275</td>\n",
              "      <td>27.975</td>\n",
              "      <td>28.130</td>\n",
              "      <td>8665592</td>\n",
              "      <td>SBUX</td>\n",
              "      <td>28.070</td>\n",
              "      <td>0.002133</td>\n",
              "    </tr>\n",
              "    <tr>\n",
              "      <th>3</th>\n",
              "      <td>2013-02-13</td>\n",
              "      <td>28.230</td>\n",
              "      <td>28.230</td>\n",
              "      <td>27.750</td>\n",
              "      <td>27.915</td>\n",
              "      <td>7022056</td>\n",
              "      <td>SBUX</td>\n",
              "      <td>28.130</td>\n",
              "      <td>-0.007702</td>\n",
              "    </tr>\n",
              "    <tr>\n",
              "      <th>4</th>\n",
              "      <td>2013-02-14</td>\n",
              "      <td>27.765</td>\n",
              "      <td>27.905</td>\n",
              "      <td>27.675</td>\n",
              "      <td>27.775</td>\n",
              "      <td>8899188</td>\n",
              "      <td>SBUX</td>\n",
              "      <td>27.915</td>\n",
              "      <td>-0.005041</td>\n",
              "    </tr>\n",
              "  </tbody>\n",
              "</table>\n",
              "</div>"
            ],
            "text/plain": [
              "         date    open    high     low  ...   volume  Name prev_close    Return\n",
              "0  2013-02-08  27.920  28.325  27.920  ...  7146296  SBUX        NaN       NaN\n",
              "1  2013-02-11  28.260  28.260  27.930  ...  5457354  SBUX     28.185 -0.004097\n",
              "2  2013-02-12  28.000  28.275  27.975  ...  8665592  SBUX     28.070  0.002133\n",
              "3  2013-02-13  28.230  28.230  27.750  ...  7022056  SBUX     28.130 -0.007702\n",
              "4  2013-02-14  27.765  27.905  27.675  ...  8899188  SBUX     27.915 -0.005041\n",
              "\n",
              "[5 rows x 9 columns]"
            ]
          },
          "metadata": {
            "tags": []
          },
          "execution_count": 98
        }
      ]
    },
    {
      "cell_type": "code",
      "metadata": {
        "id": "tCmsvHmHCu5i",
        "colab_type": "code",
        "colab": {}
      },
      "source": [
        "df1 = df.copy()"
      ],
      "execution_count": 57,
      "outputs": []
    },
    {
      "cell_type": "code",
      "metadata": {
        "id": "-wpv1IIhHsuS",
        "colab_type": "code",
        "colab": {}
      },
      "source": [
        "df1 = df1.dropna()"
      ],
      "execution_count": 60,
      "outputs": []
    },
    {
      "cell_type": "code",
      "metadata": {
        "id": "R-N_yrLkHt1w",
        "colab_type": "code",
        "colab": {
          "base_uri": "https://localhost:8080/",
          "height": 204
        },
        "outputId": "3f7942c4-9e6b-445d-e7c3-badb10736719"
      },
      "source": [
        "df1.head()"
      ],
      "execution_count": 61,
      "outputs": [
        {
          "output_type": "execute_result",
          "data": {
            "text/html": [
              "<div>\n",
              "<style scoped>\n",
              "    .dataframe tbody tr th:only-of-type {\n",
              "        vertical-align: middle;\n",
              "    }\n",
              "\n",
              "    .dataframe tbody tr th {\n",
              "        vertical-align: top;\n",
              "    }\n",
              "\n",
              "    .dataframe thead th {\n",
              "        text-align: right;\n",
              "    }\n",
              "</style>\n",
              "<table border=\"1\" class=\"dataframe\">\n",
              "  <thead>\n",
              "    <tr style=\"text-align: right;\">\n",
              "      <th></th>\n",
              "      <th>date</th>\n",
              "      <th>open</th>\n",
              "      <th>high</th>\n",
              "      <th>low</th>\n",
              "      <th>close</th>\n",
              "      <th>volume</th>\n",
              "      <th>Name</th>\n",
              "      <th>prev_close</th>\n",
              "      <th>Return</th>\n",
              "    </tr>\n",
              "  </thead>\n",
              "  <tbody>\n",
              "    <tr>\n",
              "      <th>1</th>\n",
              "      <td>2013-02-11</td>\n",
              "      <td>28.260</td>\n",
              "      <td>28.260</td>\n",
              "      <td>27.930</td>\n",
              "      <td>28.070</td>\n",
              "      <td>5457354</td>\n",
              "      <td>SBUX</td>\n",
              "      <td>28.185</td>\n",
              "      <td>-0.004097</td>\n",
              "    </tr>\n",
              "    <tr>\n",
              "      <th>2</th>\n",
              "      <td>2013-02-12</td>\n",
              "      <td>28.000</td>\n",
              "      <td>28.275</td>\n",
              "      <td>27.975</td>\n",
              "      <td>28.130</td>\n",
              "      <td>8665592</td>\n",
              "      <td>SBUX</td>\n",
              "      <td>28.070</td>\n",
              "      <td>0.002133</td>\n",
              "    </tr>\n",
              "    <tr>\n",
              "      <th>3</th>\n",
              "      <td>2013-02-13</td>\n",
              "      <td>28.230</td>\n",
              "      <td>28.230</td>\n",
              "      <td>27.750</td>\n",
              "      <td>27.915</td>\n",
              "      <td>7022056</td>\n",
              "      <td>SBUX</td>\n",
              "      <td>28.130</td>\n",
              "      <td>-0.007702</td>\n",
              "    </tr>\n",
              "    <tr>\n",
              "      <th>4</th>\n",
              "      <td>2013-02-14</td>\n",
              "      <td>27.765</td>\n",
              "      <td>27.905</td>\n",
              "      <td>27.675</td>\n",
              "      <td>27.775</td>\n",
              "      <td>8899188</td>\n",
              "      <td>SBUX</td>\n",
              "      <td>27.915</td>\n",
              "      <td>-0.005041</td>\n",
              "    </tr>\n",
              "    <tr>\n",
              "      <th>5</th>\n",
              "      <td>2013-02-15</td>\n",
              "      <td>27.805</td>\n",
              "      <td>27.850</td>\n",
              "      <td>27.085</td>\n",
              "      <td>27.170</td>\n",
              "      <td>18195730</td>\n",
              "      <td>SBUX</td>\n",
              "      <td>27.775</td>\n",
              "      <td>-0.022267</td>\n",
              "    </tr>\n",
              "  </tbody>\n",
              "</table>\n",
              "</div>"
            ],
            "text/plain": [
              "         date    open    high     low  ...    volume  Name prev_close    Return\n",
              "1  2013-02-11  28.260  28.260  27.930  ...   5457354  SBUX     28.185 -0.004097\n",
              "2  2013-02-12  28.000  28.275  27.975  ...   8665592  SBUX     28.070  0.002133\n",
              "3  2013-02-13  28.230  28.230  27.750  ...   7022056  SBUX     28.130 -0.007702\n",
              "4  2013-02-14  27.765  27.905  27.675  ...   8899188  SBUX     27.915 -0.005041\n",
              "5  2013-02-15  27.805  27.850  27.085  ...  18195730  SBUX     27.775 -0.022267\n",
              "\n",
              "[5 rows x 9 columns]"
            ]
          },
          "metadata": {
            "tags": []
          },
          "execution_count": 61
        }
      ]
    },
    {
      "cell_type": "code",
      "metadata": {
        "id": "eqvbbLj7JynA",
        "colab_type": "code",
        "colab": {}
      },
      "source": [
        "df = df.dropna()"
      ],
      "execution_count": 75,
      "outputs": []
    },
    {
      "cell_type": "code",
      "metadata": {
        "id": "ArD2PpX2H2jg",
        "colab_type": "code",
        "colab": {}
      },
      "source": [
        "series = df['Return'].values[1:].reshape(-1,1)"
      ],
      "execution_count": 108,
      "outputs": []
    },
    {
      "cell_type": "code",
      "metadata": {
        "id": "0J3wucVCIANP",
        "colab_type": "code",
        "colab": {}
      },
      "source": [
        "scaler.fit(series[:len(series)//2])\n",
        "series = scaler.transform(series).flatten()"
      ],
      "execution_count": 109,
      "outputs": []
    },
    {
      "cell_type": "code",
      "metadata": {
        "id": "LOGiiCnOIff_",
        "colab_type": "code",
        "colab": {}
      },
      "source": [
        "T = 10\n",
        "X = []\n",
        "Y = []\n",
        "D = 1\n",
        "\n",
        "for t in range(len(series) - T):\n",
        "  x = series[t:t+T]\n",
        "  X.append(x)\n",
        "  y = series[t+T]\n",
        "  Y.append(y)\n",
        "\n",
        "X = np.array(X).reshape(-1,T,1)\n",
        "Y = np.array(Y)\n",
        "N = len(X)\n",
        "\n"
      ],
      "execution_count": 110,
      "outputs": []
    },
    {
      "cell_type": "code",
      "metadata": {
        "id": "WhDSaPsfJTdA",
        "colab_type": "code",
        "colab": {}
      },
      "source": [
        "i = Input(shape = (T,1))\n",
        "x = LSTM(5)(i)\n",
        "x = Dense(1)(x)\n",
        "\n",
        "model = Model(i,x)\n",
        "\n",
        "model.compile(optimizer = Adam(lr=0.01), loss = 'mse')"
      ],
      "execution_count": 111,
      "outputs": []
    },
    {
      "cell_type": "code",
      "metadata": {
        "id": "mSrds6TfKaPC",
        "colab_type": "code",
        "colab": {
          "base_uri": "https://localhost:8080/",
          "height": 1000
        },
        "outputId": "85403e11-570b-4c67-bf5e-fdd8223a4156"
      },
      "source": [
        "model.fit(X[:-N//2], Y[:-N//2], validation_data = (X[-N//2:], Y[-N//2:]), epochs = 80)"
      ],
      "execution_count": 112,
      "outputs": [
        {
          "output_type": "stream",
          "text": [
            "Epoch 1/80\n",
            "20/20 [==============================] - 1s 28ms/step - loss: 0.9976 - val_loss: 1.1969\n",
            "Epoch 2/80\n",
            "20/20 [==============================] - 0s 9ms/step - loss: 0.9853 - val_loss: 1.2166\n",
            "Epoch 3/80\n",
            "20/20 [==============================] - 0s 8ms/step - loss: 0.9861 - val_loss: 1.2081\n",
            "Epoch 4/80\n",
            "20/20 [==============================] - 0s 8ms/step - loss: 0.9833 - val_loss: 1.2111\n",
            "Epoch 5/80\n",
            "20/20 [==============================] - 0s 8ms/step - loss: 0.9833 - val_loss: 1.2029\n",
            "Epoch 6/80\n",
            "20/20 [==============================] - 0s 8ms/step - loss: 0.9828 - val_loss: 1.2108\n",
            "Epoch 7/80\n",
            "20/20 [==============================] - 0s 9ms/step - loss: 0.9822 - val_loss: 1.1987\n",
            "Epoch 8/80\n",
            "20/20 [==============================] - 0s 10ms/step - loss: 0.9825 - val_loss: 1.2078\n",
            "Epoch 9/80\n",
            "20/20 [==============================] - 0s 8ms/step - loss: 0.9801 - val_loss: 1.2081\n",
            "Epoch 10/80\n",
            "20/20 [==============================] - 0s 9ms/step - loss: 0.9825 - val_loss: 1.2174\n",
            "Epoch 11/80\n",
            "20/20 [==============================] - 0s 9ms/step - loss: 0.9806 - val_loss: 1.2081\n",
            "Epoch 12/80\n",
            "20/20 [==============================] - 0s 9ms/step - loss: 0.9788 - val_loss: 1.2121\n",
            "Epoch 13/80\n",
            "20/20 [==============================] - 0s 10ms/step - loss: 0.9805 - val_loss: 1.2091\n",
            "Epoch 14/80\n",
            "20/20 [==============================] - 0s 8ms/step - loss: 0.9759 - val_loss: 1.2147\n",
            "Epoch 15/80\n",
            "20/20 [==============================] - 0s 8ms/step - loss: 0.9816 - val_loss: 1.2125\n",
            "Epoch 16/80\n",
            "20/20 [==============================] - 0s 8ms/step - loss: 0.9731 - val_loss: 1.2196\n",
            "Epoch 17/80\n",
            "20/20 [==============================] - 0s 8ms/step - loss: 0.9731 - val_loss: 1.2114\n",
            "Epoch 18/80\n",
            "20/20 [==============================] - 0s 8ms/step - loss: 0.9697 - val_loss: 1.2097\n",
            "Epoch 19/80\n",
            "20/20 [==============================] - 0s 11ms/step - loss: 0.9714 - val_loss: 1.2200\n",
            "Epoch 20/80\n",
            "20/20 [==============================] - 0s 8ms/step - loss: 0.9736 - val_loss: 1.2257\n",
            "Epoch 21/80\n",
            "20/20 [==============================] - 0s 8ms/step - loss: 0.9720 - val_loss: 1.2210\n",
            "Epoch 22/80\n",
            "20/20 [==============================] - 0s 8ms/step - loss: 0.9725 - val_loss: 1.2248\n",
            "Epoch 23/80\n",
            "20/20 [==============================] - 0s 8ms/step - loss: 0.9596 - val_loss: 1.2218\n",
            "Epoch 24/80\n",
            "20/20 [==============================] - 0s 9ms/step - loss: 0.9565 - val_loss: 1.2226\n",
            "Epoch 25/80\n",
            "20/20 [==============================] - 0s 8ms/step - loss: 0.9509 - val_loss: 1.2317\n",
            "Epoch 26/80\n",
            "20/20 [==============================] - 0s 8ms/step - loss: 0.9525 - val_loss: 1.2241\n",
            "Epoch 27/80\n",
            "20/20 [==============================] - 0s 8ms/step - loss: 0.9603 - val_loss: 1.2390\n",
            "Epoch 28/80\n",
            "20/20 [==============================] - 0s 8ms/step - loss: 0.9474 - val_loss: 1.2425\n",
            "Epoch 29/80\n",
            "20/20 [==============================] - 0s 9ms/step - loss: 0.9460 - val_loss: 1.2284\n",
            "Epoch 30/80\n",
            "20/20 [==============================] - 0s 9ms/step - loss: 0.9382 - val_loss: 1.2452\n",
            "Epoch 31/80\n",
            "20/20 [==============================] - 0s 8ms/step - loss: 0.9459 - val_loss: 1.2409\n",
            "Epoch 32/80\n",
            "20/20 [==============================] - 0s 9ms/step - loss: 0.9510 - val_loss: 1.2716\n",
            "Epoch 33/80\n",
            "20/20 [==============================] - 0s 8ms/step - loss: 0.9309 - val_loss: 1.2630\n",
            "Epoch 34/80\n",
            "20/20 [==============================] - 0s 8ms/step - loss: 0.9301 - val_loss: 1.2629\n",
            "Epoch 35/80\n",
            "20/20 [==============================] - 0s 8ms/step - loss: 0.9206 - val_loss: 1.2830\n",
            "Epoch 36/80\n",
            "20/20 [==============================] - 0s 9ms/step - loss: 0.9132 - val_loss: 1.2714\n",
            "Epoch 37/80\n",
            "20/20 [==============================] - 0s 8ms/step - loss: 0.9315 - val_loss: 1.2899\n",
            "Epoch 38/80\n",
            "20/20 [==============================] - 0s 8ms/step - loss: 0.9065 - val_loss: 1.2991\n",
            "Epoch 39/80\n",
            "20/20 [==============================] - 0s 8ms/step - loss: 0.9012 - val_loss: 1.3098\n",
            "Epoch 40/80\n",
            "20/20 [==============================] - 0s 8ms/step - loss: 0.8951 - val_loss: 1.3109\n",
            "Epoch 41/80\n",
            "20/20 [==============================] - 0s 8ms/step - loss: 0.8894 - val_loss: 1.3443\n",
            "Epoch 42/80\n",
            "20/20 [==============================] - 0s 9ms/step - loss: 0.8876 - val_loss: 1.3531\n",
            "Epoch 43/80\n",
            "20/20 [==============================] - 0s 8ms/step - loss: 0.8742 - val_loss: 1.3382\n",
            "Epoch 44/80\n",
            "20/20 [==============================] - 0s 8ms/step - loss: 0.8839 - val_loss: 1.4183\n",
            "Epoch 45/80\n",
            "20/20 [==============================] - 0s 8ms/step - loss: 0.8703 - val_loss: 1.3693\n",
            "Epoch 46/80\n",
            "20/20 [==============================] - 0s 8ms/step - loss: 0.8630 - val_loss: 1.3704\n",
            "Epoch 47/80\n",
            "20/20 [==============================] - 0s 9ms/step - loss: 0.8586 - val_loss: 1.3986\n",
            "Epoch 48/80\n",
            "20/20 [==============================] - 0s 9ms/step - loss: 0.8589 - val_loss: 1.4103\n",
            "Epoch 49/80\n",
            "20/20 [==============================] - 0s 9ms/step - loss: 0.8545 - val_loss: 1.4065\n",
            "Epoch 50/80\n",
            "20/20 [==============================] - 0s 9ms/step - loss: 0.8554 - val_loss: 1.4785\n",
            "Epoch 51/80\n",
            "20/20 [==============================] - 0s 9ms/step - loss: 0.8485 - val_loss: 1.3528\n",
            "Epoch 52/80\n",
            "20/20 [==============================] - 0s 9ms/step - loss: 0.8377 - val_loss: 1.5548\n",
            "Epoch 53/80\n",
            "20/20 [==============================] - 0s 9ms/step - loss: 0.8463 - val_loss: 1.3682\n",
            "Epoch 54/80\n",
            "20/20 [==============================] - 0s 8ms/step - loss: 0.8417 - val_loss: 1.4848\n",
            "Epoch 55/80\n",
            "20/20 [==============================] - 0s 8ms/step - loss: 0.8238 - val_loss: 1.4493\n",
            "Epoch 56/80\n",
            "20/20 [==============================] - 0s 8ms/step - loss: 0.8135 - val_loss: 1.4538\n",
            "Epoch 57/80\n",
            "20/20 [==============================] - 0s 9ms/step - loss: 0.8128 - val_loss: 1.4330\n",
            "Epoch 58/80\n",
            "20/20 [==============================] - 0s 9ms/step - loss: 0.8029 - val_loss: 1.5077\n",
            "Epoch 59/80\n",
            "20/20 [==============================] - 0s 10ms/step - loss: 0.7942 - val_loss: 1.4173\n",
            "Epoch 60/80\n",
            "20/20 [==============================] - 0s 9ms/step - loss: 0.7997 - val_loss: 1.4811\n",
            "Epoch 61/80\n",
            "20/20 [==============================] - 0s 9ms/step - loss: 0.7910 - val_loss: 1.4622\n",
            "Epoch 62/80\n",
            "20/20 [==============================] - 0s 9ms/step - loss: 0.7859 - val_loss: 1.4553\n",
            "Epoch 63/80\n",
            "20/20 [==============================] - 0s 9ms/step - loss: 0.7747 - val_loss: 1.4905\n",
            "Epoch 64/80\n",
            "20/20 [==============================] - 0s 9ms/step - loss: 0.7716 - val_loss: 1.5672\n",
            "Epoch 65/80\n",
            "20/20 [==============================] - 0s 8ms/step - loss: 0.7716 - val_loss: 1.4790\n",
            "Epoch 66/80\n",
            "20/20 [==============================] - 0s 8ms/step - loss: 0.7671 - val_loss: 1.4672\n",
            "Epoch 67/80\n",
            "20/20 [==============================] - 0s 9ms/step - loss: 0.7468 - val_loss: 1.5646\n",
            "Epoch 68/80\n",
            "20/20 [==============================] - 0s 8ms/step - loss: 0.7495 - val_loss: 1.4781\n",
            "Epoch 69/80\n",
            "20/20 [==============================] - 0s 8ms/step - loss: 0.7432 - val_loss: 1.5668\n",
            "Epoch 70/80\n",
            "20/20 [==============================] - 0s 8ms/step - loss: 0.7451 - val_loss: 1.5320\n",
            "Epoch 71/80\n",
            "20/20 [==============================] - 0s 8ms/step - loss: 0.7445 - val_loss: 1.5412\n",
            "Epoch 72/80\n",
            "20/20 [==============================] - 0s 8ms/step - loss: 0.7291 - val_loss: 1.5254\n",
            "Epoch 73/80\n",
            "20/20 [==============================] - 0s 8ms/step - loss: 0.7303 - val_loss: 1.6236\n",
            "Epoch 74/80\n",
            "20/20 [==============================] - 0s 8ms/step - loss: 0.7368 - val_loss: 1.4972\n",
            "Epoch 75/80\n",
            "20/20 [==============================] - 0s 10ms/step - loss: 0.7244 - val_loss: 1.4872\n",
            "Epoch 76/80\n",
            "20/20 [==============================] - 0s 9ms/step - loss: 0.7128 - val_loss: 1.5364\n",
            "Epoch 77/80\n",
            "20/20 [==============================] - 0s 11ms/step - loss: 0.7065 - val_loss: 1.5436\n",
            "Epoch 78/80\n",
            "20/20 [==============================] - 0s 9ms/step - loss: 0.7119 - val_loss: 1.6045\n",
            "Epoch 79/80\n",
            "20/20 [==============================] - 0s 8ms/step - loss: 0.7269 - val_loss: 1.5220\n",
            "Epoch 80/80\n",
            "20/20 [==============================] - 0s 8ms/step - loss: 0.7119 - val_loss: 1.5552\n"
          ],
          "name": "stdout"
        },
        {
          "output_type": "execute_result",
          "data": {
            "text/plain": [
              "<tensorflow.python.keras.callbacks.History at 0x7f7a4a2ec400>"
            ]
          },
          "metadata": {
            "tags": []
          },
          "execution_count": 112
        }
      ]
    },
    {
      "cell_type": "code",
      "metadata": {
        "id": "rJQr1djQKsuu",
        "colab_type": "code",
        "colab": {
          "base_uri": "https://localhost:8080/",
          "height": 282
        },
        "outputId": "5ab19277-1092-4f61-df09-042bb13a440b"
      },
      "source": [
        "# Plot loss per iteration\n",
        "import matplotlib.pyplot as plt\n",
        "plt.plot(r.history['loss'], label='loss')\n",
        "plt.plot(r.history['val_loss'], label='val_loss')\n",
        "plt.legend()"
      ],
      "execution_count": 113,
      "outputs": [
        {
          "output_type": "execute_result",
          "data": {
            "text/plain": [
              "<matplotlib.legend.Legend at 0x7f7a45ba5d30>"
            ]
          },
          "metadata": {
            "tags": []
          },
          "execution_count": 113
        },
        {
          "output_type": "display_data",
          "data": {
            "image/png": "[encoded data removed]",
            "text/plain": [
              "<Figure size 432x288 with 1 Axes>"
            ]
          },
          "metadata": {
            "tags": [],
            "needs_background": "light"
          }
        }
      ]
    },
    {
      "cell_type": "code",
      "metadata": {
        "id": "qkqs_sMvKtmT",
        "colab_type": "code",
        "colab": {
          "base_uri": "https://localhost:8080/",
          "height": 282
        },
        "outputId": "480c551f-412f-4cce-f035-0f11e84ce8d3"
      },
      "source": [
        "# One-step forecast using true targets\n",
        "outputs = model.predict(X)\n",
        "print(outputs.shape)\n",
        "predictions = outputs[:,0]\n",
        "\n",
        "plt.plot(Y, label='targets')\n",
        "plt.plot(predictions, label='predictions')\n",
        "plt.legend()\n",
        "plt.show()"
      ],
      "execution_count": 114,
      "outputs": [
        {
          "output_type": "stream",
          "text": [
            "(1248, 1)\n"
          ],
          "name": "stdout"
        },
        {
          "output_type": "display_data",
          "data": {
            "image/png": "[encoded data removed]",
            "text/plain": [
              "<Figure size 432x288 with 1 Axes>"
            ]
          },
          "metadata": {
            "tags": [],
            "needs_background": "light"
          }
        }
      ]
    },
    {
      "cell_type": "code",
      "metadata": {
        "id": "X2JMJNHDKwm3",
        "colab_type": "code",
        "colab": {
          "base_uri": "https://localhost:8080/",
          "height": 282
        },
        "outputId": "42445d1b-603e-4598-dea1-e01897a3cbed"
      },
      "source": [
        "validation_target = series[-N//2:]\n",
        "validation_prediction = []\n",
        "\n",
        "x_last = X[-N//2]\n",
        "\n",
        "while len(validation_target) > len(validation_prediction):\n",
        "  p = model.predict(x_last.reshape(-1,1,1))[0,0]\n",
        "  validation_prediction.append(p)\n",
        "  np.roll(x_last, -1)\n",
        "  x_last[-1] = p\n",
        "\n",
        "\n",
        "plt.plot(validation_target, label='forecast target')\n",
        "plt.plot(validation_predictions, label='forecast prediction')\n",
        "plt.legend()"
      ],
      "execution_count": 125,
      "outputs": [
        {
          "output_type": "execute_result",
          "data": {
            "text/plain": [
              "<matplotlib.legend.Legend at 0x7f7a46b2e128>"
            ]
          },
          "metadata": {
            "tags": []
          },
          "execution_count": 125
        },
        {
          "output_type": "display_data",
          "data": {
            "image/png": "[encoded data removed]",
            "text/plain": [
              "<Figure size 432x288 with 1 Axes>"
            ]
          },
          "metadata": {
            "tags": [],
            "needs_background": "light"
          }
        }
      ]
    },
    {
      "cell_type": "code",
      "metadata": {
        "id": "tkW5XoznRluo",
        "colab_type": "code",
        "colab": {
          "base_uri": "https://localhost:8080/",
          "height": 187
        },
        "outputId": "8363252e-6f1c-4510-eeb5-c9e7ebe21e01"
      },
      "source": [
        "X[1]"
      ],
      "execution_count": 128,
      "outputs": [
        {
          "output_type": "execute_result",
          "data": {
            "text/plain": [
              "array([[ 0.09292955],\n",
              "       [-0.73383628],\n",
              "       [-0.51010314],\n",
              "       [-1.95825609],\n",
              "       [ 0.0834511 ],\n",
              "       [-1.88403973],\n",
              "       [-0.0233474 ],\n",
              "       [ 1.18615182],\n",
              "       [-1.60304309],\n",
              "       [ 0.02406898]])"
            ]
          },
          "metadata": {
            "tags": []
          },
          "execution_count": 128
        }
      ]
    },
    {
      "cell_type": "code",
      "metadata": {
        "id": "puzxvJo_OJlW",
        "colab_type": "code",
        "colab": {}
      },
      "source": [
        ""
      ],
      "execution_count": null,
      "outputs": []
    }
  ]
}