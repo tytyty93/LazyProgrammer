{
  "nbformat": 4,
  "nbformat_minor": 0,
  "metadata": {
    "colab": {
      "name": "LP_Spam Detection CNN.ipynb",
      "provenance": [],
      "authorship_tag": "ABX9TyPGyC4qjk8d2/5oPuNhBDBm",
      "include_colab_link": true
    },
    "kernelspec": {
      "name": "python3",
      "display_name": "Python 3"
    }
  },
  "cells": [
    {
      "cell_type": "markdown",
      "metadata": {
        "id": "view-in-github",
        "colab_type": "text"
      },
      "source": [
        "<a href=\"https://colab.research.google.com/github/tytyty93/LazyProgrammer/blob/master/LP_Spam%20Detection%20CNN.ipynb\" target=\"_parent\"><img src=\"https://colab.research.google.com/assets/colab-badge.svg\" alt=\"Open In Colab\"/></a>"
      ]
    },
    {
      "cell_type": "code",
      "metadata": {
        "id": "HsQsOWaZP9f3",
        "colab_type": "code",
        "colab": {}
      },
      "source": [
        "import numpy as np\n",
        "import pandas as pd\n",
        "import matplotlib.pyplot as plt\n",
        "from sklearn.model_selection import train_test_split\n",
        "\n",
        "from tensorflow.keras.models import Model\n",
        "from tensorflow.keras.preprocessing.text import Tokenizer\n",
        "from tensorflow.keras.preprocessing.sequence import pad_sequences\n",
        "from tensorflow.keras.layers import Dense, Conv1D, Flatten, Input, GlobalMaxPooling1D, MaxPooling1D, Embedding"
      ],
      "execution_count": 1,
      "outputs": []
    },
    {
      "cell_type": "markdown",
      "metadata": {
        "id": "AbTgC_E2VWNQ",
        "colab_type": "text"
      },
      "source": [
        "# Retrieving and Formatting Data"
      ]
    },
    {
      "cell_type": "code",
      "metadata": {
        "id": "ax84wQHrQ7iE",
        "colab_type": "code",
        "colab": {
          "base_uri": "https://localhost:8080/",
          "height": 238
        },
        "outputId": "391068d4-e1dc-4182-8182-2285d0ee2658"
      },
      "source": [
        "!wget -nc https://lazyprogrammer.me/course_files/spam.csv\n",
        "\n",
        "df = pd.read_csv('spam.csv', encoding='ISO-8859-1')\n",
        "df = df.drop(['Unnamed: 2', 'Unnamed: 3', 'Unnamed: 4'], axis =1)\n",
        "df.columns=['labels','data']\n",
        "df['b_labels'] = df['labels'].map({'ham': 1, 'spam':0})\n",
        "Y = df['b_labels'].values\n",
        "\n",
        "df.head()"
      ],
      "execution_count": 27,
      "outputs": [
        {
          "output_type": "stream",
          "text": [
            "File ‘spam.csv’ already there; not retrieving.\n",
            "\n"
          ],
          "name": "stdout"
        },
        {
          "output_type": "execute_result",
          "data": {
            "text/html": [
              "<div>\n",
              "<style scoped>\n",
              "    .dataframe tbody tr th:only-of-type {\n",
              "        vertical-align: middle;\n",
              "    }\n",
              "\n",
              "    .dataframe tbody tr th {\n",
              "        vertical-align: top;\n",
              "    }\n",
              "\n",
              "    .dataframe thead th {\n",
              "        text-align: right;\n",
              "    }\n",
              "</style>\n",
              "<table border=\"1\" class=\"dataframe\">\n",
              "  <thead>\n",
              "    <tr style=\"text-align: right;\">\n",
              "      <th></th>\n",
              "      <th>labels</th>\n",
              "      <th>data</th>\n",
              "      <th>b_labels</th>\n",
              "    </tr>\n",
              "  </thead>\n",
              "  <tbody>\n",
              "    <tr>\n",
              "      <th>0</th>\n",
              "      <td>ham</td>\n",
              "      <td>Go until jurong point, crazy.. Available only ...</td>\n",
              "      <td>1</td>\n",
              "    </tr>\n",
              "    <tr>\n",
              "      <th>1</th>\n",
              "      <td>ham</td>\n",
              "      <td>Ok lar... Joking wif u oni...</td>\n",
              "      <td>1</td>\n",
              "    </tr>\n",
              "    <tr>\n",
              "      <th>2</th>\n",
              "      <td>spam</td>\n",
              "      <td>Free entry in 2 a wkly comp to win FA Cup fina...</td>\n",
              "      <td>0</td>\n",
              "    </tr>\n",
              "    <tr>\n",
              "      <th>3</th>\n",
              "      <td>ham</td>\n",
              "      <td>U dun say so early hor... U c already then say...</td>\n",
              "      <td>1</td>\n",
              "    </tr>\n",
              "    <tr>\n",
              "      <th>4</th>\n",
              "      <td>ham</td>\n",
              "      <td>Nah I don't think he goes to usf, he lives aro...</td>\n",
              "      <td>1</td>\n",
              "    </tr>\n",
              "  </tbody>\n",
              "</table>\n",
              "</div>"
            ],
            "text/plain": [
              "  labels                                               data  b_labels\n",
              "0    ham  Go until jurong point, crazy.. Available only ...         1\n",
              "1    ham                      Ok lar... Joking wif u oni...         1\n",
              "2   spam  Free entry in 2 a wkly comp to win FA Cup fina...         0\n",
              "3    ham  U dun say so early hor... U c already then say...         1\n",
              "4    ham  Nah I don't think he goes to usf, he lives aro...         1"
            ]
          },
          "metadata": {
            "tags": []
          },
          "execution_count": 27
        }
      ]
    },
    {
      "cell_type": "markdown",
      "metadata": {
        "id": "A-7boJ57Vrtw",
        "colab_type": "text"
      },
      "source": [
        "#Train test split"
      ]
    },
    {
      "cell_type": "code",
      "metadata": {
        "id": "xxH1ffuaUGh0",
        "colab_type": "code",
        "colab": {}
      },
      "source": [
        "df_train,df_test,Ytrain,Ytest = train_test_split(df['data'], Y, test_size = 0.33)"
      ],
      "execution_count": 49,
      "outputs": []
    },
    {
      "cell_type": "markdown",
      "metadata": {
        "id": "pQIi7LmiVuS7",
        "colab_type": "text"
      },
      "source": [
        "# Converting sentences to sequences"
      ]
    },
    {
      "cell_type": "code",
      "metadata": {
        "id": "1SA1yXmFU3uT",
        "colab_type": "code",
        "colab": {}
      },
      "source": [
        "MAX_VOCAB_SIZE = 2000\n",
        "tokenizer = Tokenizer(num_words=MAX_VOCAB_SIZE)\n",
        "tokenizer.fit_on_texts(df_train)\n",
        "sequences_train = tokenizer.texts_to_sequences(df_train)\n",
        "sequences_test = tokenizer.texts_to_sequences(df_test)"
      ],
      "execution_count": 50,
      "outputs": []
    },
    {
      "cell_type": "markdown",
      "metadata": {
        "id": "uD6FdwnEVw7o",
        "colab_type": "text"
      },
      "source": [
        "# Word -> Integer mapping"
      ]
    },
    {
      "cell_type": "code",
      "metadata": {
        "id": "h3VodJVPVOCB",
        "colab_type": "code",
        "colab": {
          "base_uri": "https://localhost:8080/",
          "height": 34
        },
        "outputId": "3677aa91-dc3c-40bf-943b-c79aada0aa2c"
      },
      "source": [
        "word2idx = tokenizer.word_index\n",
        "V = len(word2idx)\n",
        "print(\"Found %s unique tokens\"%V)"
      ],
      "execution_count": 51,
      "outputs": [
        {
          "output_type": "stream",
          "text": [
            "Found 7213 unique tokens\n"
          ],
          "name": "stdout"
        }
      ]
    },
    {
      "cell_type": "markdown",
      "metadata": {
        "id": "id93NtjmWCJY",
        "colab_type": "text"
      },
      "source": [
        "# Padding Sequences"
      ]
    },
    {
      "cell_type": "code",
      "metadata": {
        "id": "h8gKq-xPV_rD",
        "colab_type": "code",
        "colab": {
          "base_uri": "https://localhost:8080/",
          "height": 34
        },
        "outputId": "969472c5-24ad-4a58-c39f-6596f2b60217"
      },
      "source": [
        "data_train = pad_sequences(sequences_train)\n",
        "print(\"Shape of data train tensor:\", data_train.shape)\n",
        "\n",
        "# Get sequence length for the test set\n",
        "T = data_train.shape[1]\n",
        "\n"
      ],
      "execution_count": 52,
      "outputs": [
        {
          "output_type": "stream",
          "text": [
            "Shape of data train tensor: (3733, 120)\n"
          ],
          "name": "stdout"
        }
      ]
    },
    {
      "cell_type": "code",
      "metadata": {
        "id": "9BGj53ItYKvZ",
        "colab_type": "code",
        "colab": {
          "base_uri": "https://localhost:8080/",
          "height": 34
        },
        "outputId": "def835f9-8e5f-4993-a237-2dc708c40233"
      },
      "source": [
        "data_test = pad_sequences(sequences_test, maxlen = T)\n",
        "print(\"Shape of data test tensor:\", data_test.shape)"
      ],
      "execution_count": 53,
      "outputs": [
        {
          "output_type": "stream",
          "text": [
            "Shape of data test tensor: (1839, 120)\n"
          ],
          "name": "stdout"
        }
      ]
    },
    {
      "cell_type": "markdown",
      "metadata": {
        "id": "IQsgZAR8WlBz",
        "colab_type": "text"
      },
      "source": [
        "# Creating the Model"
      ]
    },
    {
      "cell_type": "code",
      "metadata": {
        "id": "uIqGM-WoWcYL",
        "colab_type": "code",
        "colab": {}
      },
      "source": [
        "D = 20\n",
        "\n",
        "# Note: we actually want to the size of the embedding to (V + 1) x D,\n",
        "# because the first index starts from 1 and not 0.\n",
        "# Thus, if the final index of the embedding matrix is V,\n",
        "# then it actually must have size V + 1.\n",
        "\n",
        "i = Input(shape = (T,))\n",
        "x = Embedding(V+1,D)(i)\n",
        "x = Conv1D(32,3, activation = 'relu')(x)\n",
        "x = MaxPooling1D(3)(x)\n",
        "x = Conv1D(64,3, activation = 'relu')(x)\n",
        "x = MaxPooling1D(3)(x)\n",
        "x = Conv1D(128,3, activation = 'relu')(x)\n",
        "x = MaxPooling1D(3)(x)\n",
        "x = GlobalMaxPooling1D()(x)\n",
        "x = Dense(1,activation = 'sigmoid')(x)\n",
        "\n",
        "model = Model(i,x)\n",
        "\n",
        "model.compile(optimizer = 'adam', loss = 'binary_crossentropy', metrics = ['accuracy'])"
      ],
      "execution_count": 66,
      "outputs": []
    },
    {
      "cell_type": "markdown",
      "metadata": {
        "id": "v4H5hbBgXVld",
        "colab_type": "text"
      },
      "source": [
        "Training the Model"
      ]
    },
    {
      "cell_type": "code",
      "metadata": {
        "id": "Dto_pW-XXXOY",
        "colab_type": "code",
        "colab": {
          "base_uri": "https://localhost:8080/",
          "height": 187
        },
        "outputId": "aa23e093-7169-4ec2-920b-f87712037df3"
      },
      "source": [
        "r = model.fit(data_train, Ytrain, validation_data = (data_test, Ytest), epochs = 5)"
      ],
      "execution_count": 67,
      "outputs": [
        {
          "output_type": "stream",
          "text": [
            "Epoch 1/5\n",
            "117/117 [==============================] - 2s 17ms/step - loss: 0.4298 - accuracy: 0.8663 - val_loss: 0.3916 - val_accuracy: 0.8651\n",
            "Epoch 2/5\n",
            "117/117 [==============================] - 2s 14ms/step - loss: 0.3274 - accuracy: 0.8811 - val_loss: 0.1757 - val_accuracy: 0.9418\n",
            "Epoch 3/5\n",
            "117/117 [==============================] - 2s 14ms/step - loss: 0.1391 - accuracy: 0.9595 - val_loss: 0.1531 - val_accuracy: 0.9608\n",
            "Epoch 4/5\n",
            "117/117 [==============================] - 2s 13ms/step - loss: 0.0991 - accuracy: 0.9748 - val_loss: 0.1490 - val_accuracy: 0.9625\n",
            "Epoch 5/5\n",
            "117/117 [==============================] - 2s 14ms/step - loss: 0.0871 - accuracy: 0.9796 - val_loss: 0.1558 - val_accuracy: 0.9663\n"
          ],
          "name": "stdout"
        }
      ]
    },
    {
      "cell_type": "code",
      "metadata": {
        "id": "ZVRpAUaHX6GL",
        "colab_type": "code",
        "colab": {
          "base_uri": "https://localhost:8080/",
          "height": 282
        },
        "outputId": "43bfae95-e52a-47f4-a6cd-ec033ce6a075"
      },
      "source": [
        "# Plot loss per iteration\n",
        "import matplotlib.pyplot as plt\n",
        "plt.plot(r.history['loss'], label='loss')\n",
        "plt.plot(r.history['val_loss'], label='val_loss')\n",
        "plt.legend()"
      ],
      "execution_count": 70,
      "outputs": [
        {
          "output_type": "execute_result",
          "data": {
            "text/plain": [
              "<matplotlib.legend.Legend at 0x7f4e3b298128>"
            ]
          },
          "metadata": {
            "tags": []
          },
          "execution_count": 70
        },
        {
          "output_type": "display_data",
          "data": {
            "image/png": "[encoded data removed]",
            "text/plain": [
              "<Figure size 432x288 with 1 Axes>"
            ]
          },
          "metadata": {
            "tags": [],
            "needs_background": "light"
          }
        }
      ]
    },
    {
      "cell_type": "code",
      "metadata": {
        "id": "SULHpgXKYhMF",
        "colab_type": "code",
        "colab": {
          "base_uri": "https://localhost:8080/",
          "height": 282
        },
        "outputId": "18db3c42-dc29-4430-b77b-247b3999bf93"
      },
      "source": [
        "# Plot accuracy per iteration\n",
        "plt.plot(r.history['accuracy'], label='acc')\n",
        "plt.plot(r.history['val_accuracy'], label='val_acc')\n",
        "plt.legend()"
      ],
      "execution_count": 71,
      "outputs": [
        {
          "output_type": "execute_result",
          "data": {
            "text/plain": [
              "<matplotlib.legend.Legend at 0x7f4e401ca9b0>"
            ]
          },
          "metadata": {
            "tags": []
          },
          "execution_count": 71
        },
        {
          "output_type": "display_data",
          "data": {
            "image/png": "[encoded data removed]",
            "text/plain": [
              "<Figure size 432x288 with 1 Axes>"
            ]
          },
          "metadata": {
            "tags": [],
            "needs_background": "light"
          }
        }
      ]
    },
    {
      "cell_type": "code",
      "metadata": {
        "id": "yEGu-78MZjth",
        "colab_type": "code",
        "colab": {
          "base_uri": "https://localhost:8080/",
          "height": 163
        },
        "outputId": "176d3b6f-3201-42bd-c312-b5b4f8d5cc5c"
      },
      "source": [
        ""
      ],
      "execution_count": 69,
      "outputs": [
        {
          "output_type": "error",
          "ename": "TypeError",
          "evalue": "ignored",
          "traceback": [
            "\u001b[0;31m---------------------------------------------------------------------------\u001b[0m",
            "\u001b[0;31mTypeError\u001b[0m                                 Traceback (most recent call last)",
            "\u001b[0;32m<ipython-input-69-0117ba241b5a>\u001b[0m in \u001b[0;36m<module>\u001b[0;34m()\u001b[0m\n\u001b[0;32m----> 1\u001b[0;31m \u001b[0mV\u001b[0m\u001b[0;34m[\u001b[0m\u001b[0;36m1\u001b[0m\u001b[0;34m]\u001b[0m\u001b[0;34m\u001b[0m\u001b[0;34m\u001b[0m\u001b[0m\n\u001b[0m",
            "\u001b[0;31mTypeError\u001b[0m: 'int' object is not subscriptable"
          ]
        }
      ]
    },
    {
      "cell_type": "code",
      "metadata": {
        "id": "1RJ00ptcaBa6",
        "colab_type": "code",
        "colab": {}
      },
      "source": [
        ""
      ],
      "execution_count": null,
      "outputs": []
    }
  ]
}