{
  "nbformat": 4,
  "nbformat_minor": 0,
  "metadata": {
    "colab": {
      "name": "LP_Text Preprocessing.ipynb",
      "provenance": [],
      "authorship_tag": "ABX9TyP1xzPtVA5nGmYI5305RRS5",
      "include_colab_link": true
    },
    "kernelspec": {
      "name": "python3",
      "display_name": "Python 3"
    }
  },
  "cells": [
    {
      "cell_type": "markdown",
      "metadata": {
        "id": "view-in-github",
        "colab_type": "text"
      },
      "source": [
        "<a href=\"https://colab.research.google.com/github/tytyty93/LazyProgrammer/blob/master/LP_Text_Preprocessing.ipynb\" target=\"_parent\"><img src=\"https://colab.research.google.com/assets/colab-badge.svg\" alt=\"Open In Colab\"/></a>"
      ]
    },
    {
      "cell_type": "code",
      "metadata": {
        "id": "fKTw1XhCJXFg",
        "colab_type": "code",
        "colab": {}
      },
      "source": [
        "import tensorflow as tf\n",
        "\n",
        "from tensorflow.keras.preprocessing.text import Tokenizer\n",
        "from tensorflow.keras.preprocessing.sequence import pad_sequences"
      ],
      "execution_count": 1,
      "outputs": []
    },
    {
      "cell_type": "markdown",
      "metadata": {
        "id": "RFH0iI06JpEB",
        "colab_type": "text"
      },
      "source": [
        "# Creating Dummy Sentence"
      ]
    },
    {
      "cell_type": "code",
      "metadata": {
        "id": "r9fJYVUSJjK1",
        "colab_type": "code",
        "colab": {}
      },
      "source": [
        "sentences = ['I like eggs and ham.', 'I love chocolate and bunnies.', 'I hate onions.']"
      ],
      "execution_count": 3,
      "outputs": []
    },
    {
      "cell_type": "markdown",
      "metadata": {
        "id": "Vn7WKmnuJ3to",
        "colab_type": "text"
      },
      "source": [
        "# Define Max Vocab size"
      ]
    },
    {
      "cell_type": "code",
      "metadata": {
        "id": "Q3CQbHglJ50_",
        "colab_type": "code",
        "colab": {
          "base_uri": "https://localhost:8080/",
          "height": 34
        },
        "outputId": "35cc85a1-e6cf-4a60-b09d-4b508b314658"
      },
      "source": [
        "MAX_VOCAB_SIZE = 2000\n",
        "tokenizer = Tokenizer(num_words=MAX_VOCAB_SIZE)\n",
        "tokenizer.fit_on_texts(sentences)\n",
        "sequences = tokenizer.texts_to_sequences(sentences)\n",
        "\n",
        "print(sequences)"
      ],
      "execution_count": 23,
      "outputs": [
        {
          "output_type": "stream",
          "text": [
            "[[1, 3, 4, 2, 5], [1, 6, 7, 2, 8], [1, 9, 10]]\n"
          ],
          "name": "stdout"
        }
      ]
    },
    {
      "cell_type": "markdown",
      "metadata": {
        "id": "cclokS2ULWKA",
        "colab_type": "text"
      },
      "source": [
        "# Displaying word to index mapping"
      ]
    },
    {
      "cell_type": "code",
      "metadata": {
        "id": "qYUSg2PRKLPT",
        "colab_type": "code",
        "colab": {
          "base_uri": "https://localhost:8080/",
          "height": 187
        },
        "outputId": "db7fe8fe-80d5-4d31-9e4c-ac5cd4bdf0b8"
      },
      "source": [
        "tokenizer.word_index"
      ],
      "execution_count": 21,
      "outputs": [
        {
          "output_type": "execute_result",
          "data": {
            "text/plain": [
              "{'and': 2,\n",
              " 'bunnies': 8,\n",
              " 'chocolate': 7,\n",
              " 'eggs': 4,\n",
              " 'ham': 5,\n",
              " 'hate': 9,\n",
              " 'i': 1,\n",
              " 'like': 3,\n",
              " 'love': 6,\n",
              " 'onions': 10}"
            ]
          },
          "metadata": {
            "tags": []
          },
          "execution_count": 21
        }
      ]
    },
    {
      "cell_type": "markdown",
      "metadata": {
        "id": "QQvquhLALxvr",
        "colab_type": "text"
      },
      "source": [
        "# Padding the Sequences"
      ]
    },
    {
      "cell_type": "code",
      "metadata": {
        "id": "zbGZMuiqK8_U",
        "colab_type": "code",
        "colab": {
          "base_uri": "https://localhost:8080/",
          "height": 68
        },
        "outputId": "03fc7be0-7c79-453a-d632-5412380fafe1"
      },
      "source": [
        "# Using default values\n",
        "data = pad_sequences(sequences)\n",
        "print(data)"
      ],
      "execution_count": 22,
      "outputs": [
        {
          "output_type": "stream",
          "text": [
            "[[ 1  3  4  2  5]\n",
            " [ 1  6  7  2  8]\n",
            " [ 0  0  1  9 10]]\n"
          ],
          "name": "stdout"
        }
      ]
    },
    {
      "cell_type": "code",
      "metadata": {
        "id": "aWNLuYbOL3FL",
        "colab_type": "code",
        "colab": {
          "base_uri": "https://localhost:8080/",
          "height": 68
        },
        "outputId": "09abe8b7-4263-439f-c8f3-fc44b4fa9c6f"
      },
      "source": [
        "# Setting the max sequence length to 5. It's the same as the top one as the max is 5 for both.\n",
        "MAX_SEQUENCE_LENGTH = 5\n",
        "data = pad_sequences(sequences,maxlen=MAX_SEQUENCE_LENGTH)\n",
        "print(data)"
      ],
      "execution_count": 24,
      "outputs": [
        {
          "output_type": "stream",
          "text": [
            "[[ 1  3  4  2  5]\n",
            " [ 1  6  7  2  8]\n",
            " [ 0  0  1  9 10]]\n"
          ],
          "name": "stdout"
        }
      ]
    },
    {
      "cell_type": "code",
      "metadata": {
        "id": "mKO440_wMFpq",
        "colab_type": "code",
        "colab": {
          "base_uri": "https://localhost:8080/",
          "height": 68
        },
        "outputId": "bd36431b-6f1e-41b3-98fb-6d06ea4a1f29"
      },
      "source": [
        "# Setting post padding. You can see the last row has 2 0s at the end instead of the start \n",
        "data = pad_sequences(sequences, maxlen = MAX_SEQUENCE_LENGTH, padding = 'post')\n",
        "print(data)"
      ],
      "execution_count": 25,
      "outputs": [
        {
          "output_type": "stream",
          "text": [
            "[[ 1  3  4  2  5]\n",
            " [ 1  6  7  2  8]\n",
            " [ 1  9 10  0  0]]\n"
          ],
          "name": "stdout"
        }
      ]
    },
    {
      "cell_type": "code",
      "metadata": {
        "id": "jESLIKQ4MW0k",
        "colab_type": "code",
        "colab": {
          "base_uri": "https://localhost:8080/",
          "height": 68
        },
        "outputId": "c4d04ec1-b939-41d1-8b3d-a70f86ec1c23"
      },
      "source": [
        "# Too much padding. Will give a 0 at the beginning as the length is 6 instead of 5\n",
        "data = pad_sequences(sequences, maxlen=6)\n",
        "print(data)"
      ],
      "execution_count": 26,
      "outputs": [
        {
          "output_type": "stream",
          "text": [
            "[[ 0  1  3  4  2  5]\n",
            " [ 0  1  6  7  2  8]\n",
            " [ 0  0  0  1  9 10]]\n"
          ],
          "name": "stdout"
        }
      ]
    },
    {
      "cell_type": "code",
      "metadata": {
        "id": "5CrQfF6tMiXq",
        "colab_type": "code",
        "colab": {
          "base_uri": "https://localhost:8080/",
          "height": 68
        },
        "outputId": "a6b4c9b3-677e-4855-8571-0a269b267093"
      },
      "source": [
        "# Truncation. This will remove the first integer in the list as the max length is 4 now instead of 5\n",
        "data = pad_sequences(sequences, maxlen=4)\n",
        "print(data)"
      ],
      "execution_count": 27,
      "outputs": [
        {
          "output_type": "stream",
          "text": [
            "[[ 3  4  2  5]\n",
            " [ 6  7  2  8]\n",
            " [ 0  1  9 10]]\n"
          ],
          "name": "stdout"
        }
      ]
    },
    {
      "cell_type": "code",
      "metadata": {
        "id": "QZtGo8VCM1u5",
        "colab_type": "code",
        "colab": {
          "base_uri": "https://localhost:8080/",
          "height": 68
        },
        "outputId": "6ccb8392-c24d-499f-ed15-264698646226"
      },
      "source": [
        "# Setting Truncation to post now. The ends are cut off instead of beginnings.\n",
        "data = pad_sequences(sequences, maxlen=4, truncating='post')\n",
        "print(data)"
      ],
      "execution_count": 28,
      "outputs": [
        {
          "output_type": "stream",
          "text": [
            "[[ 1  3  4  2]\n",
            " [ 1  6  7  2]\n",
            " [ 0  1  9 10]]\n"
          ],
          "name": "stdout"
        }
      ]
    },
    {
      "cell_type": "code",
      "metadata": {
        "id": "SdjXe61ENA9i",
        "colab_type": "code",
        "colab": {}
      },
      "source": [
        ""
      ],
      "execution_count": null,
      "outputs": []
    }
  ]
}