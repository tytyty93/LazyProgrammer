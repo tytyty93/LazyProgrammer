{
  "nbformat": 4,
  "nbformat_minor": 0,
  "metadata": {
    "colab": {
      "name": "LP_Linear Classification.ipynb",
      "provenance": [],
      "authorship_tag": "ABX9TyNYqyMKqIRrnLg7eJPE/kpE",
      "include_colab_link": true
    },
    "kernelspec": {
      "name": "python3",
      "display_name": "Python 3"
    }
  },
  "cells": [
    {
      "cell_type": "markdown",
      "metadata": {
        "id": "view-in-github",
        "colab_type": "text"
      },
      "source": [
        "<a href=\"https://colab.research.google.com/github/tytyty93/LazyProgrammer/blob/master/LP_Linear_Classification.ipynb\" target=\"_parent\"><img src=\"https://colab.research.google.com/assets/colab-badge.svg\" alt=\"Open In Colab\"/></a>"
      ]
    },
    {
      "cell_type": "markdown",
      "metadata": {
        "id": "NcmIplXEkjgs",
        "colab_type": "text"
      },
      "source": [
        "# Importing the Data & Analysing it"
      ]
    },
    {
      "cell_type": "code",
      "metadata": {
        "id": "9TN1iwMwfA5r",
        "colab_type": "code",
        "colab": {}
      },
      "source": [
        "from sklearn.datasets import load_breast_cancer\n",
        "data = load_breast_cancer()"
      ],
      "execution_count": 0,
      "outputs": []
    },
    {
      "cell_type": "code",
      "metadata": {
        "id": "8Q62hOtnh-m0",
        "colab_type": "code",
        "outputId": "ff209063-1b63-4585-a760-e879f3ef57ab",
        "colab": {
          "base_uri": "https://localhost:8080/",
          "height": 34
        }
      },
      "source": [
        "data.keys()"
      ],
      "execution_count": 2,
      "outputs": [
        {
          "output_type": "execute_result",
          "data": {
            "text/plain": [
              "dict_keys(['data', 'target', 'target_names', 'DESCR', 'feature_names', 'filename'])"
            ]
          },
          "metadata": {
            "tags": []
          },
          "execution_count": 2
        }
      ]
    },
    {
      "cell_type": "code",
      "metadata": {
        "id": "vOuM1B4Ch--A",
        "colab_type": "code",
        "outputId": "cb91101f-4dcc-4563-df04-43fd00496bd0",
        "colab": {
          "base_uri": "https://localhost:8080/",
          "height": 34
        }
      },
      "source": [
        "data.data.shape"
      ],
      "execution_count": 3,
      "outputs": [
        {
          "output_type": "execute_result",
          "data": {
            "text/plain": [
              "(569, 30)"
            ]
          },
          "metadata": {
            "tags": []
          },
          "execution_count": 3
        }
      ]
    },
    {
      "cell_type": "code",
      "metadata": {
        "id": "hgSXLmgNiR4A",
        "colab_type": "code",
        "outputId": "f016c191-d29a-4680-8943-70432d057745",
        "colab": {
          "base_uri": "https://localhost:8080/",
          "height": 459
        }
      },
      "source": [
        "data.target"
      ],
      "execution_count": 4,
      "outputs": [
        {
          "output_type": "execute_result",
          "data": {
            "text/plain": [
              "array([0, 0, 0, 0, 0, 0, 0, 0, 0, 0, 0, 0, 0, 0, 0, 0, 0, 0, 0, 1, 1, 1,\n",
              "       0, 0, 0, 0, 0, 0, 0, 0, 0, 0, 0, 0, 0, 0, 0, 1, 0, 0, 0, 0, 0, 0,\n",
              "       0, 0, 1, 0, 1, 1, 1, 1, 1, 0, 0, 1, 0, 0, 1, 1, 1, 1, 0, 1, 0, 0,\n",
              "       1, 1, 1, 1, 0, 1, 0, 0, 1, 0, 1, 0, 0, 1, 1, 1, 0, 0, 1, 0, 0, 0,\n",
              "       1, 1, 1, 0, 1, 1, 0, 0, 1, 1, 1, 0, 0, 1, 1, 1, 1, 0, 1, 1, 0, 1,\n",
              "       1, 1, 1, 1, 1, 1, 1, 0, 0, 0, 1, 0, 0, 1, 1, 1, 0, 0, 1, 0, 1, 0,\n",
              "       0, 1, 0, 0, 1, 1, 0, 1, 1, 0, 1, 1, 1, 1, 0, 1, 1, 1, 1, 1, 1, 1,\n",
              "       1, 1, 0, 1, 1, 1, 1, 0, 0, 1, 0, 1, 1, 0, 0, 1, 1, 0, 0, 1, 1, 1,\n",
              "       1, 0, 1, 1, 0, 0, 0, 1, 0, 1, 0, 1, 1, 1, 0, 1, 1, 0, 0, 1, 0, 0,\n",
              "       0, 0, 1, 0, 0, 0, 1, 0, 1, 0, 1, 1, 0, 1, 0, 0, 0, 0, 1, 1, 0, 0,\n",
              "       1, 1, 1, 0, 1, 1, 1, 1, 1, 0, 0, 1, 1, 0, 1, 1, 0, 0, 1, 0, 1, 1,\n",
              "       1, 1, 0, 1, 1, 1, 1, 1, 0, 1, 0, 0, 0, 0, 0, 0, 0, 0, 0, 0, 0, 0,\n",
              "       0, 0, 1, 1, 1, 1, 1, 1, 0, 1, 0, 1, 1, 0, 1, 1, 0, 1, 0, 0, 1, 1,\n",
              "       1, 1, 1, 1, 1, 1, 1, 1, 1, 1, 1, 0, 1, 1, 0, 1, 0, 1, 1, 1, 1, 1,\n",
              "       1, 1, 1, 1, 1, 1, 1, 1, 1, 0, 1, 1, 1, 0, 1, 0, 1, 1, 1, 1, 0, 0,\n",
              "       0, 1, 1, 1, 1, 0, 1, 0, 1, 0, 1, 1, 1, 0, 1, 1, 1, 1, 1, 1, 1, 0,\n",
              "       0, 0, 1, 1, 1, 1, 1, 1, 1, 1, 1, 1, 1, 0, 0, 1, 0, 0, 0, 1, 0, 0,\n",
              "       1, 1, 1, 1, 1, 0, 1, 1, 1, 1, 1, 0, 1, 1, 1, 0, 1, 1, 0, 0, 1, 1,\n",
              "       1, 1, 1, 1, 0, 1, 1, 1, 1, 1, 1, 1, 0, 1, 1, 1, 1, 1, 0, 1, 1, 0,\n",
              "       1, 1, 1, 1, 1, 1, 1, 1, 1, 1, 1, 1, 0, 1, 0, 0, 1, 0, 1, 1, 1, 1,\n",
              "       1, 0, 1, 1, 0, 1, 0, 1, 1, 0, 1, 0, 1, 1, 1, 1, 1, 1, 1, 1, 0, 0,\n",
              "       1, 1, 1, 1, 1, 1, 0, 1, 1, 1, 1, 1, 1, 1, 1, 1, 1, 0, 1, 1, 1, 1,\n",
              "       1, 1, 1, 0, 1, 0, 1, 1, 0, 1, 1, 1, 1, 1, 0, 0, 1, 0, 1, 0, 1, 1,\n",
              "       1, 1, 1, 0, 1, 1, 0, 1, 0, 1, 0, 0, 1, 1, 1, 0, 1, 1, 1, 1, 1, 1,\n",
              "       1, 1, 1, 1, 1, 0, 1, 0, 0, 1, 1, 1, 1, 1, 1, 1, 1, 1, 1, 1, 1, 1,\n",
              "       1, 1, 1, 1, 1, 1, 1, 1, 1, 1, 1, 1, 0, 0, 0, 0, 0, 0, 1])"
            ]
          },
          "metadata": {
            "tags": []
          },
          "execution_count": 4
        }
      ]
    },
    {
      "cell_type": "code",
      "metadata": {
        "id": "_OPnAYpoim6B",
        "colab_type": "code",
        "outputId": "848de019-634b-4358-faff-ad4c04b9ed32",
        "colab": {
          "base_uri": "https://localhost:8080/",
          "height": 34
        }
      },
      "source": [
        "data.target_names"
      ],
      "execution_count": 5,
      "outputs": [
        {
          "output_type": "execute_result",
          "data": {
            "text/plain": [
              "array(['malignant', 'benign'], dtype='<U9')"
            ]
          },
          "metadata": {
            "tags": []
          },
          "execution_count": 5
        }
      ]
    },
    {
      "cell_type": "code",
      "metadata": {
        "id": "7Y68egoUit3x",
        "colab_type": "code",
        "outputId": "f0ce1116-ebe5-4fb1-a5e0-eef80e074df4",
        "colab": {
          "base_uri": "https://localhost:8080/",
          "height": 187
        }
      },
      "source": [
        "data.feature_names"
      ],
      "execution_count": 6,
      "outputs": [
        {
          "output_type": "execute_result",
          "data": {
            "text/plain": [
              "array(['mean radius', 'mean texture', 'mean perimeter', 'mean area',\n",
              "       'mean smoothness', 'mean compactness', 'mean concavity',\n",
              "       'mean concave points', 'mean symmetry', 'mean fractal dimension',\n",
              "       'radius error', 'texture error', 'perimeter error', 'area error',\n",
              "       'smoothness error', 'compactness error', 'concavity error',\n",
              "       'concave points error', 'symmetry error',\n",
              "       'fractal dimension error', 'worst radius', 'worst texture',\n",
              "       'worst perimeter', 'worst area', 'worst smoothness',\n",
              "       'worst compactness', 'worst concavity', 'worst concave points',\n",
              "       'worst symmetry', 'worst fractal dimension'], dtype='<U23')"
            ]
          },
          "metadata": {
            "tags": []
          },
          "execution_count": 6
        }
      ]
    },
    {
      "cell_type": "code",
      "metadata": {
        "id": "Xwma0__Fi4wZ",
        "colab_type": "code",
        "colab": {}
      },
      "source": [
        "from sklearn.model_selection import train_test_split"
      ],
      "execution_count": 0,
      "outputs": []
    },
    {
      "cell_type": "code",
      "metadata": {
        "id": "yLUderCMjB6Z",
        "colab_type": "code",
        "colab": {}
      },
      "source": [
        "X_train,X_test,y_train,y_test = train_test_split(data.data, data.target, test_size = 0.33)"
      ],
      "execution_count": 0,
      "outputs": []
    },
    {
      "cell_type": "code",
      "metadata": {
        "id": "s1LiD9eCjUYx",
        "colab_type": "code",
        "colab": {}
      },
      "source": [
        "N,D = X_train.shape  # Just assigning the shape to N & D just in case may use later"
      ],
      "execution_count": 0,
      "outputs": []
    },
    {
      "cell_type": "code",
      "metadata": {
        "id": "m1cTnAzSlqok",
        "colab_type": "code",
        "outputId": "ec631385-82e1-4b8a-f322-f30a650b54c0",
        "colab": {
          "base_uri": "https://localhost:8080/",
          "height": 34
        }
      },
      "source": [
        "D"
      ],
      "execution_count": 10,
      "outputs": [
        {
          "output_type": "execute_result",
          "data": {
            "text/plain": [
              "30"
            ]
          },
          "metadata": {
            "tags": []
          },
          "execution_count": 10
        }
      ]
    },
    {
      "cell_type": "markdown",
      "metadata": {
        "id": "oZ0X3zRBjul9",
        "colab_type": "text"
      },
      "source": [
        "# Scaling the Data\n",
        "\n",
        "\n"
      ]
    },
    {
      "cell_type": "code",
      "metadata": {
        "id": "IFmX5ny8jVaJ",
        "colab_type": "code",
        "colab": {}
      },
      "source": [
        "from sklearn.preprocessing import StandardScaler\n",
        "\n",
        "scaler = StandardScaler()\n",
        "X_train = scaler.fit_transform(X_train)\n",
        "X_test = scaler.transform(X_test)  # We don't fit it as we don't want the test data to be exposed to the scaler"
      ],
      "execution_count": 0,
      "outputs": []
    },
    {
      "cell_type": "markdown",
      "metadata": {
        "id": "B4j0wbImky_M",
        "colab_type": "text"
      },
      "source": [
        "# Creating the Model"
      ]
    },
    {
      "cell_type": "code",
      "metadata": {
        "id": "-nsemX5QkQNo",
        "colab_type": "code",
        "colab": {}
      },
      "source": [
        "import tensorflow as tf\n"
      ],
      "execution_count": 0,
      "outputs": []
    },
    {
      "cell_type": "code",
      "metadata": {
        "id": "fXVtUBKrlWUy",
        "colab_type": "code",
        "outputId": "ba493330-24a3-4423-e673-5a039aae548d",
        "colab": {
          "base_uri": "https://localhost:8080/",
          "height": 85
        }
      },
      "source": [
        "model = tf.keras.models.Sequential([\n",
        "                                   tf.keras.layers.Input(shape=(D,)),\n",
        "                                   tf.keras.layers.Dense(1, activation='sigmoid')]) # The one takes in the input (D) to get an output of size (1) \n",
        "                                                                                    # sigmoid as we only want the outputs to range from 0 to 1\n",
        "\n",
        "\n",
        "model.compile(optimizer='adam', loss='binary_crossentropy', metrics=['accuracy'])\n",
        "\n",
        "r = model.fit(X_train,y_train, validation_data=(X_test,y_test), epochs=100, verbose=0)\n",
        "\n",
        "print(\"Train score:\", model.evaluate(X_train,y_train))\n",
        "print(\"Test score:\", model.evaluate(X_test,y_test))"
      ],
      "execution_count": 16,
      "outputs": [
        {
          "output_type": "stream",
          "text": [
            "12/12 [==============================] - 0s 1ms/step - loss: 0.0892 - accuracy: 0.9843\n",
            "Train score: [0.08924746513366699, 0.9842519760131836]\n",
            "6/6 [==============================] - 0s 2ms/step - loss: 0.1059 - accuracy: 0.9734\n",
            "Test score: [0.10586059838533401, 0.9734042286872864]\n"
          ],
          "name": "stdout"
        }
      ]
    },
    {
      "cell_type": "markdown",
      "metadata": {
        "id": "cNNDKNHHnz5v",
        "colab_type": "text"
      },
      "source": [
        "# Plotting the Loss"
      ]
    },
    {
      "cell_type": "code",
      "metadata": {
        "id": "lBe0e8kslQ2c",
        "colab_type": "code",
        "outputId": "2942092b-ea57-4c5e-9965-6777dc1f45f7",
        "colab": {
          "base_uri": "https://localhost:8080/",
          "height": 282
        }
      },
      "source": [
        "import matplotlib.pyplot as plt\n",
        "plt.plot(r.history['loss'], label = 'loss')\n",
        "plt.plot(r.history['val_loss'], label = 'vaL_loss')\n"
      ],
      "execution_count": 17,
      "outputs": [
        {
          "output_type": "execute_result",
          "data": {
            "text/plain": [
              "[<matplotlib.lines.Line2D at 0x7f715754e550>]"
            ]
          },
          "metadata": {
            "tags": []
          },
          "execution_count": 17
        },
        {
          "output_type": "display_data",
          "data": {
            "image/png": "[encoded data removed]",
            "text/plain": [
              "<Figure size 432x288 with 1 Axes>"
            ]
          },
          "metadata": {
            "tags": [],
            "needs_background": "light"
          }
        }
      ]
    },
    {
      "cell_type": "code",
      "metadata": {
        "id": "UtM3bD8JqdOM",
        "colab_type": "code",
        "outputId": "2d9d58ce-7ab1-47e1-cc43-06bde887e678",
        "colab": {
          "base_uri": "https://localhost:8080/",
          "height": 283
        }
      },
      "source": [
        "plt.plot(r.history['accuracy'], label = 'accuracy')\n",
        "plt.plot(r.history['val_accuracy'], label = 'vaL_accuracy')"
      ],
      "execution_count": 18,
      "outputs": [
        {
          "output_type": "execute_result",
          "data": {
            "text/plain": [
              "[<matplotlib.lines.Line2D at 0x7f71625bffd0>]"
            ]
          },
          "metadata": {
            "tags": []
          },
          "execution_count": 18
        },
        {
          "output_type": "display_data",
          "data": {
            "image/png": "[encoded data removed]",
            "text/plain": [
              "<Figure size 432x288 with 1 Axes>"
            ]
          },
          "metadata": {
            "tags": [],
            "needs_background": "light"
          }
        }
      ]
    },
    {
      "cell_type": "markdown",
      "metadata": {
        "id": "YdXXf4bOorTT",
        "colab_type": "text"
      },
      "source": [
        "# Making Predictions"
      ]
    },
    {
      "cell_type": "code",
      "metadata": {
        "id": "rFn3ZOPfn5oz",
        "colab_type": "code",
        "colab": {
          "base_uri": "https://localhost:8080/",
          "height": 1000
        },
        "outputId": "c64b9d5c-d799-47a3-f283-206a61406328"
      },
      "source": [
        "P = model.predict(X_test)\n",
        "print(P)"
      ],
      "execution_count": 19,
      "outputs": [
        {
          "output_type": "stream",
          "text": [
            "[[9.0065002e-03]\n",
            " [5.5856687e-01]\n",
            " [7.6232773e-01]\n",
            " [8.7070972e-01]\n",
            " [7.9253316e-04]\n",
            " [9.9308825e-01]\n",
            " [7.3487389e-01]\n",
            " [1.2316406e-02]\n",
            " [9.9017984e-01]\n",
            " [9.7612321e-01]\n",
            " [8.6313176e-01]\n",
            " [9.9220794e-01]\n",
            " [7.6274884e-01]\n",
            " [6.3710184e-05]\n",
            " [3.8421154e-03]\n",
            " [6.9004881e-01]\n",
            " [9.5676839e-01]\n",
            " [9.7438943e-01]\n",
            " [6.4562035e-01]\n",
            " [9.9065185e-01]\n",
            " [1.2435347e-02]\n",
            " [3.3526462e-01]\n",
            " [4.0471554e-04]\n",
            " [9.4338304e-01]\n",
            " [9.9882627e-01]\n",
            " [9.3960249e-01]\n",
            " [9.8438072e-01]\n",
            " [9.9549961e-01]\n",
            " [4.5375687e-01]\n",
            " [9.7838116e-01]\n",
            " [9.4533539e-01]\n",
            " [2.0427912e-02]\n",
            " [8.3334070e-01]\n",
            " [9.9811578e-01]\n",
            " [2.5252402e-03]\n",
            " [8.2550323e-01]\n",
            " [8.2795078e-01]\n",
            " [3.5880804e-03]\n",
            " [9.9688685e-01]\n",
            " [1.7090291e-02]\n",
            " [1.5961266e-01]\n",
            " [9.7635341e-01]\n",
            " [9.8489881e-01]\n",
            " [4.6075925e-07]\n",
            " [9.9560881e-01]\n",
            " [8.3745849e-01]\n",
            " [9.8906767e-01]\n",
            " [9.9208438e-01]\n",
            " [5.0247007e-05]\n",
            " [9.1443157e-01]\n",
            " [9.8721981e-01]\n",
            " [2.9100047e-05]\n",
            " [9.8938584e-01]\n",
            " [6.8681121e-01]\n",
            " [9.9898374e-01]\n",
            " [9.3619180e-01]\n",
            " [2.4326522e-07]\n",
            " [9.9497068e-01]\n",
            " [8.4714317e-01]\n",
            " [8.0163270e-05]\n",
            " [9.7900075e-01]\n",
            " [2.0526201e-02]\n",
            " [4.2487562e-01]\n",
            " [9.9104989e-01]\n",
            " [9.8954207e-01]\n",
            " [9.4304740e-01]\n",
            " [9.0163088e-01]\n",
            " [9.9299824e-01]\n",
            " [9.5656991e-01]\n",
            " [5.2551925e-03]\n",
            " [4.4604331e-01]\n",
            " [9.8081893e-01]\n",
            " [4.1679442e-03]\n",
            " [9.9900532e-01]\n",
            " [9.4319355e-01]\n",
            " [9.8599219e-01]\n",
            " [9.9591583e-01]\n",
            " [1.3354421e-04]\n",
            " [9.8596263e-01]\n",
            " [9.9766767e-01]\n",
            " [1.3519079e-05]\n",
            " [9.8019749e-01]\n",
            " [6.8187714e-04]\n",
            " [5.6776404e-04]\n",
            " [5.3000450e-04]\n",
            " [1.3062328e-02]\n",
            " [9.4971240e-01]\n",
            " [9.9775362e-01]\n",
            " [9.2791975e-01]\n",
            " [3.7686229e-03]\n",
            " [9.7973192e-01]\n",
            " [3.0905008e-04]\n",
            " [5.9854984e-03]\n",
            " [9.9910915e-01]\n",
            " [9.7198486e-01]\n",
            " [9.0991712e-01]\n",
            " [8.7535977e-03]\n",
            " [5.6219101e-04]\n",
            " [3.4851730e-03]\n",
            " [7.3349780e-01]\n",
            " [1.6392618e-02]\n",
            " [9.9808949e-01]\n",
            " [9.2854893e-01]\n",
            " [9.9771643e-01]\n",
            " [7.3754019e-01]\n",
            " [9.9798179e-01]\n",
            " [1.7118532e-06]\n",
            " [8.0961585e-01]\n",
            " [9.7898889e-01]\n",
            " [9.5020640e-01]\n",
            " [9.3978548e-01]\n",
            " [9.5544839e-01]\n",
            " [9.8103344e-01]\n",
            " [2.4830699e-01]\n",
            " [9.9437594e-01]\n",
            " [6.0215592e-04]\n",
            " [8.6629272e-02]\n",
            " [9.9604315e-01]\n",
            " [1.8164366e-02]\n",
            " [9.9306631e-01]\n",
            " [1.6000867e-04]\n",
            " [9.9051070e-01]\n",
            " [1.1840385e-01]\n",
            " [9.9769014e-01]\n",
            " [9.9980789e-01]\n",
            " [9.8687816e-01]\n",
            " [9.6636045e-01]\n",
            " [1.2027368e-01]\n",
            " [3.5931677e-02]\n",
            " [9.0370393e-01]\n",
            " [9.3359017e-01]\n",
            " [1.6528368e-04]\n",
            " [9.1898924e-01]\n",
            " [9.7224784e-01]\n",
            " [1.1532226e-01]\n",
            " [9.9828100e-01]\n",
            " [9.8544759e-01]\n",
            " [9.4828266e-01]\n",
            " [7.2204244e-01]\n",
            " [6.4446394e-06]\n",
            " [3.6129355e-01]\n",
            " [9.9370831e-01]\n",
            " [9.8485065e-01]\n",
            " [9.4869345e-01]\n",
            " [9.5753390e-01]\n",
            " [9.8862672e-01]\n",
            " [4.2539120e-02]\n",
            " [9.8386860e-01]\n",
            " [9.3659407e-01]\n",
            " [3.5430312e-02]\n",
            " [2.9680685e-08]\n",
            " [9.8692650e-01]\n",
            " [9.8326153e-01]\n",
            " [4.7895244e-01]\n",
            " [9.9824679e-01]\n",
            " [9.7961920e-01]\n",
            " [9.9765444e-01]\n",
            " [9.9978071e-01]\n",
            " [9.9894506e-01]\n",
            " [9.9763799e-01]\n",
            " [9.9213362e-01]\n",
            " [9.8958600e-01]\n",
            " [9.4829631e-01]\n",
            " [9.7862089e-01]\n",
            " [9.8946273e-01]\n",
            " [9.9850070e-01]\n",
            " [9.8708272e-01]\n",
            " [9.9955118e-01]\n",
            " [8.9961880e-01]\n",
            " [9.6547854e-01]\n",
            " [4.0454715e-02]\n",
            " [9.9538183e-01]\n",
            " [8.1169158e-02]\n",
            " [9.5265865e-01]\n",
            " [9.8695803e-01]\n",
            " [1.7139554e-02]\n",
            " [5.3854092e-05]\n",
            " [9.8832226e-01]\n",
            " [8.9920187e-01]\n",
            " [7.1524245e-01]\n",
            " [9.2933857e-01]\n",
            " [1.3116509e-02]\n",
            " [9.9827898e-01]\n",
            " [9.6718884e-01]\n",
            " [9.9069124e-01]\n",
            " [2.7273593e-06]\n",
            " [5.1272698e-05]\n",
            " [9.2009848e-01]]\n"
          ],
          "name": "stdout"
        }
      ]
    },
    {
      "cell_type": "code",
      "metadata": {
        "id": "vZhbKLAHgojT",
        "colab_type": "code",
        "colab": {
          "base_uri": "https://localhost:8080/",
          "height": 153
        },
        "outputId": "8355704d-13fb-47a4-e93e-9afdc0fcc8f3"
      },
      "source": [
        "import numpy as np\n",
        "P = np.round(P).flatten()  #Rounds the value into 0s or 1s and Flatten the array\n",
        "print(P)"
      ],
      "execution_count": 22,
      "outputs": [
        {
          "output_type": "stream",
          "text": [
            "[0. 1. 1. 1. 0. 1. 1. 0. 1. 1. 1. 1. 1. 0. 0. 1. 1. 1. 1. 1. 0. 0. 0. 1.\n",
            " 1. 1. 1. 1. 0. 1. 1. 0. 1. 1. 0. 1. 1. 0. 1. 0. 0. 1. 1. 0. 1. 1. 1. 1.\n",
            " 0. 1. 1. 0. 1. 1. 1. 1. 0. 1. 1. 0. 1. 0. 0. 1. 1. 1. 1. 1. 1. 0. 0. 1.\n",
            " 0. 1. 1. 1. 1. 0. 1. 1. 0. 1. 0. 0. 0. 0. 1. 1. 1. 0. 1. 0. 0. 1. 1. 1.\n",
            " 0. 0. 0. 1. 0. 1. 1. 1. 1. 1. 0. 1. 1. 1. 1. 1. 1. 0. 1. 0. 0. 1. 0. 1.\n",
            " 0. 1. 0. 1. 1. 1. 1. 0. 0. 1. 1. 0. 1. 1. 0. 1. 1. 1. 1. 0. 0. 1. 1. 1.\n",
            " 1. 1. 0. 1. 1. 0. 0. 1. 1. 0. 1. 1. 1. 1. 1. 1. 1. 1. 1. 1. 1. 1. 1. 1.\n",
            " 1. 1. 0. 1. 0. 1. 1. 0. 0. 1. 1. 1. 1. 0. 1. 1. 1. 0. 0. 1.]\n"
          ],
          "name": "stdout"
        }
      ]
    },
    {
      "cell_type": "code",
      "metadata": {
        "id": "MpRo2-jtgucJ",
        "colab_type": "code",
        "colab": {
          "base_uri": "https://localhost:8080/",
          "height": 68
        },
        "outputId": "0da606ac-9c37-472d-ee76-9c4b3354bd43"
      },
      "source": [
        "print(\"Manually calculated accuracy: \", np.mean(P==y_test))\n",
        "print(\"Evaluate output: \", model.evaluate(X_test,y_test))"
      ],
      "execution_count": 23,
      "outputs": [
        {
          "output_type": "stream",
          "text": [
            "Manually calculated accuracy:  0.973404255319149\n",
            "6/6 [==============================] - 0s 1ms/step - loss: 0.1059 - accuracy: 0.9734\n",
            "Evaluate output:  [0.10586059838533401, 0.9734042286872864]\n"
          ],
          "name": "stdout"
        }
      ]
    },
    {
      "cell_type": "code",
      "metadata": {
        "id": "yNCnoRORhgBL",
        "colab_type": "code",
        "colab": {}
      },
      "source": [
        ""
      ],
      "execution_count": 0,
      "outputs": []
    }
  ]
}