{
  "nbformat": 4,
  "nbformat_minor": 0,
  "metadata": {
    "colab": {
      "name": "LP_Fashion MNIST.ipynb",
      "provenance": [],
      "authorship_tag": "ABX9TyPw+jPUO9S9V9hy8R8/x+nv",
      "include_colab_link": true
    },
    "kernelspec": {
      "name": "python3",
      "display_name": "Python 3"
    },
    "accelerator": "GPU"
  },
  "cells": [
    {
      "cell_type": "markdown",
      "metadata": {
        "id": "view-in-github",
        "colab_type": "text"
      },
      "source": [
        "<a href=\"https://colab.research.google.com/github/tytyty93/LazyProgrammer/blob/master/LP_Fashion_MNIST.ipynb\" target=\"_parent\"><img src=\"https://colab.research.google.com/assets/colab-badge.svg\" alt=\"Open In Colab\"/></a>"
      ]
    },
    {
      "cell_type": "code",
      "metadata": {
        "id": "-MiGdTqFYpJR",
        "colab_type": "code",
        "colab": {}
      },
      "source": [
        "import numpy as np\n",
        "import matplotlib.pyplot as plt\n",
        "import tensorflow as tf\n",
        "from tensorflow.keras.layers import Conv2D, Flatten, Dense, Dropout, Input\n",
        "from tensorflow.keras.models import Model\n"
      ],
      "execution_count": 0,
      "outputs": []
    },
    {
      "cell_type": "markdown",
      "metadata": {
        "id": "DOrbCxfEgHL-",
        "colab_type": "text"
      },
      "source": [
        "# Loading and Scaling the Data"
      ]
    },
    {
      "cell_type": "code",
      "metadata": {
        "id": "lKC7oLk2b6QT",
        "colab_type": "code",
        "colab": {
          "base_uri": "https://localhost:8080/",
          "height": 418
        },
        "outputId": "6d2e87f5-3690-44d7-d422-21e7163d85e5"
      },
      "source": [
        "from tensorflow.keras.datasets import fashion_mnist\n",
        "(x_train, y_train), (x_test, y_test) = fashion_mnist.load_data()\n",
        "\n",
        "x_train = x_train/255\n",
        "x_test = x_test/255\n",
        "\n",
        "plt.imshow(x_train[159])"
      ],
      "execution_count": 3,
      "outputs": [
        {
          "output_type": "stream",
          "text": [
            "Downloading data from https://storage.googleapis.com/tensorflow/tf-keras-datasets/train-labels-idx1-ubyte.gz\n",
            "32768/29515 [=================================] - 0s 0us/step\n",
            "Downloading data from https://storage.googleapis.com/tensorflow/tf-keras-datasets/train-images-idx3-ubyte.gz\n",
            "26427392/26421880 [==============================] - 0s 0us/step\n",
            "Downloading data from https://storage.googleapis.com/tensorflow/tf-keras-datasets/t10k-labels-idx1-ubyte.gz\n",
            "8192/5148 [===============================================] - 0s 0us/step\n",
            "Downloading data from https://storage.googleapis.com/tensorflow/tf-keras-datasets/t10k-images-idx3-ubyte.gz\n",
            "4423680/4422102 [==============================] - 0s 0us/step\n"
          ],
          "name": "stdout"
        },
        {
          "output_type": "execute_result",
          "data": {
            "text/plain": [
              "<matplotlib.image.AxesImage at 0x7f5c268de3c8>"
            ]
          },
          "metadata": {
            "tags": []
          },
          "execution_count": 3
        },
        {
          "output_type": "display_data",
          "data": {
            "image/png": "[encoded data removed]",
            "text/plain": [
              "<Figure size 432x288 with 1 Axes>"
            ]
          },
          "metadata": {
            "tags": [],
            "needs_background": "light"
          }
        }
      ]
    },
    {
      "cell_type": "markdown",
      "metadata": {
        "id": "ZSDtj3iagEoa",
        "colab_type": "text"
      },
      "source": [
        "# Reshaping the Image"
      ]
    },
    {
      "cell_type": "code",
      "metadata": {
        "id": "zWSQdF4abQ-K",
        "colab_type": "code",
        "colab": {
          "base_uri": "https://localhost:8080/",
          "height": 34
        },
        "outputId": "ba6f8e2b-5e2f-4ff9-922b-3db79c508acb"
      },
      "source": [
        "x_train = x_train.reshape(60000,28,28,1)\n",
        "x_test = x_test.reshape(10000,28,28,1)\n",
        "x_train.shape\n",
        "x_test.shape"
      ],
      "execution_count": 4,
      "outputs": [
        {
          "output_type": "execute_result",
          "data": {
            "text/plain": [
              "(10000, 28, 28, 1)"
            ]
          },
          "metadata": {
            "tags": []
          },
          "execution_count": 4
        }
      ]
    },
    {
      "cell_type": "markdown",
      "metadata": {
        "id": "vz_yny5BgXvm",
        "colab_type": "text"
      },
      "source": [
        "# Displaying the number of classes"
      ]
    },
    {
      "cell_type": "code",
      "metadata": {
        "id": "LH9A8Pt7ef64",
        "colab_type": "code",
        "colab": {
          "base_uri": "https://localhost:8080/",
          "height": 34
        },
        "outputId": "c4f3551a-1c14-45fc-f674-341b644f3e47"
      },
      "source": [
        "set(y_train)"
      ],
      "execution_count": 5,
      "outputs": [
        {
          "output_type": "execute_result",
          "data": {
            "text/plain": [
              "{0, 1, 2, 3, 4, 5, 6, 7, 8, 9}"
            ]
          },
          "metadata": {
            "tags": []
          },
          "execution_count": 5
        }
      ]
    },
    {
      "cell_type": "code",
      "metadata": {
        "id": "Ubomn0HOf1C6",
        "colab_type": "code",
        "colab": {
          "base_uri": "https://localhost:8080/",
          "height": 34
        },
        "outputId": "4be85335-33ec-43bc-c34f-932949be6c3a"
      },
      "source": [
        "K = len(set(y_train))\n",
        "print(\"Number of unique classes in y_train:\", K) "
      ],
      "execution_count": 6,
      "outputs": [
        {
          "output_type": "stream",
          "text": [
            "Number of unique classes in y_train: 10\n"
          ],
          "name": "stdout"
        }
      ]
    },
    {
      "cell_type": "markdown",
      "metadata": {
        "id": "WoypTW-FgiF2",
        "colab_type": "text"
      },
      "source": [
        "# Creating the Model"
      ]
    },
    {
      "cell_type": "code",
      "metadata": {
        "id": "Psc4DGaGgf67",
        "colab_type": "code",
        "colab": {}
      },
      "source": [
        "i = Input(shape = x_train[0].shape)\n",
        "x = Conv2D(32, (3,3), strides = 2, activation='relu')(i)  # 32 Filters of 3,3 shape striding at 2 and taking the input shape of i\n",
        "x = Conv2D(64, (3,3), strides = 2, activation='relu')(x)\n",
        "x = Conv2D(128, (3,3), strides = 2, activation='relu')(x)\n",
        "x = Flatten()(x)\n",
        "x = Dropout(0.2)(x)\n",
        "x = Dense(512, activation = 'relu')(x)\n",
        "x = Dropout(0.2)(x)\n",
        "x = Dense(K, activation = 'softmax')(x)  # K = 10 as established on top\n",
        "model = Model(i,x) # Model only has 1 input functiona and 1 output function"
      ],
      "execution_count": 0,
      "outputs": []
    },
    {
      "cell_type": "markdown",
      "metadata": {
        "id": "7nBmRoqMiICY",
        "colab_type": "text"
      },
      "source": [
        "# Compiling and fitting the model"
      ]
    },
    {
      "cell_type": "code",
      "metadata": {
        "id": "M_Z7raPSgnFR",
        "colab_type": "code",
        "colab": {
          "base_uri": "https://localhost:8080/",
          "height": 527
        },
        "outputId": "3962008c-48b8-4aec-a948-cf000064d2e0"
      },
      "source": [
        "model.compile(optimizer = 'adam', loss = 'sparse_categorical_crossentropy', metrics = ['accuracy'])\n",
        "r = model.fit(x_train, y_train, validation_data = (x_test, y_test), epochs = 15)"
      ],
      "execution_count": 8,
      "outputs": [
        {
          "output_type": "stream",
          "text": [
            "Epoch 1/15\n",
            "1875/1875 [==============================] - 5s 3ms/step - loss: 0.5236 - accuracy: 0.8066 - val_loss: 0.3973 - val_accuracy: 0.8523\n",
            "Epoch 2/15\n",
            "1875/1875 [==============================] - 5s 3ms/step - loss: 0.3569 - accuracy: 0.8663 - val_loss: 0.3332 - val_accuracy: 0.8733\n",
            "Epoch 3/15\n",
            "1875/1875 [==============================] - 5s 3ms/step - loss: 0.3097 - accuracy: 0.8842 - val_loss: 0.3123 - val_accuracy: 0.8850\n",
            "Epoch 4/15\n",
            "1875/1875 [==============================] - 5s 3ms/step - loss: 0.2745 - accuracy: 0.8971 - val_loss: 0.3136 - val_accuracy: 0.8846\n",
            "Epoch 5/15\n",
            "1875/1875 [==============================] - 5s 3ms/step - loss: 0.2515 - accuracy: 0.9050 - val_loss: 0.2990 - val_accuracy: 0.8934\n",
            "Epoch 6/15\n",
            "1875/1875 [==============================] - 5s 3ms/step - loss: 0.2291 - accuracy: 0.9129 - val_loss: 0.3010 - val_accuracy: 0.8928\n",
            "Epoch 7/15\n",
            "1875/1875 [==============================] - 5s 3ms/step - loss: 0.2110 - accuracy: 0.9199 - val_loss: 0.2882 - val_accuracy: 0.8982\n",
            "Epoch 8/15\n",
            "1875/1875 [==============================] - 5s 3ms/step - loss: 0.1957 - accuracy: 0.9262 - val_loss: 0.3225 - val_accuracy: 0.8934\n",
            "Epoch 9/15\n",
            "1875/1875 [==============================] - 5s 3ms/step - loss: 0.1831 - accuracy: 0.9302 - val_loss: 0.2938 - val_accuracy: 0.9015\n",
            "Epoch 10/15\n",
            "1875/1875 [==============================] - 5s 3ms/step - loss: 0.1691 - accuracy: 0.9355 - val_loss: 0.3120 - val_accuracy: 0.9009\n",
            "Epoch 11/15\n",
            "1875/1875 [==============================] - 5s 3ms/step - loss: 0.1606 - accuracy: 0.9386 - val_loss: 0.3178 - val_accuracy: 0.9007\n",
            "Epoch 12/15\n",
            "1875/1875 [==============================] - 5s 3ms/step - loss: 0.1510 - accuracy: 0.9412 - val_loss: 0.3223 - val_accuracy: 0.9019\n",
            "Epoch 13/15\n",
            "1875/1875 [==============================] - 5s 3ms/step - loss: 0.1430 - accuracy: 0.9440 - val_loss: 0.3306 - val_accuracy: 0.9022\n",
            "Epoch 14/15\n",
            "1875/1875 [==============================] - 5s 3ms/step - loss: 0.1366 - accuracy: 0.9472 - val_loss: 0.3590 - val_accuracy: 0.9020\n",
            "Epoch 15/15\n",
            "1875/1875 [==============================] - 5s 3ms/step - loss: 0.1270 - accuracy: 0.9514 - val_loss: 0.3843 - val_accuracy: 0.8968\n"
          ],
          "name": "stdout"
        }
      ]
    },
    {
      "cell_type": "markdown",
      "metadata": {
        "id": "ryePHHSrlZDH",
        "colab_type": "text"
      },
      "source": [
        "# Plotting the loss\n"
      ]
    },
    {
      "cell_type": "code",
      "metadata": {
        "id": "Ebqf72VfjJwB",
        "colab_type": "code",
        "colab": {
          "base_uri": "https://localhost:8080/",
          "height": 282
        },
        "outputId": "78ff500b-8a97-4601-c0e6-13af0d7b910c"
      },
      "source": [
        "plt.plot(r.history['loss'], label = 'loss')\n",
        "plt.plot(r.history['val_loss'], label = 'val_loss')\n",
        "plt.legend()"
      ],
      "execution_count": 12,
      "outputs": [
        {
          "output_type": "execute_result",
          "data": {
            "text/plain": [
              "<matplotlib.legend.Legend at 0x7f5bb21f6128>"
            ]
          },
          "metadata": {
            "tags": []
          },
          "execution_count": 12
        },
        {
          "output_type": "display_data",
          "data": {
            "image/png": "[encoded data removed]",
            "text/plain": [
              "<Figure size 432x288 with 1 Axes>"
            ]
          },
          "metadata": {
            "tags": [],
            "needs_background": "light"
          }
        }
      ]
    },
    {
      "cell_type": "code",
      "metadata": {
        "id": "kpAD7fEDkxus",
        "colab_type": "code",
        "colab": {
          "base_uri": "https://localhost:8080/",
          "height": 282
        },
        "outputId": "b35e30c6-5d69-463f-b8e6-6142b8bfc7a7"
      },
      "source": [
        "plt.plot(r.history['accuracy'], label = 'accuracy')\n",
        "plt.plot(r.history['val_accuracy'], label = 'val_accuracy')\n",
        "plt.legend()"
      ],
      "execution_count": 13,
      "outputs": [
        {
          "output_type": "execute_result",
          "data": {
            "text/plain": [
              "<matplotlib.legend.Legend at 0x7f5bb2167c50>"
            ]
          },
          "metadata": {
            "tags": []
          },
          "execution_count": 13
        },
        {
          "output_type": "display_data",
          "data": {
            "image/png": "[encoded data removed]",
            "text/plain": [
              "<Figure size 432x288 with 1 Axes>"
            ]
          },
          "metadata": {
            "tags": [],
            "needs_background": "light"
          }
        }
      ]
    },
    {
      "cell_type": "markdown",
      "metadata": {
        "id": "yR7vQE50mBTl",
        "colab_type": "text"
      },
      "source": [
        "# Plotting confusion Matrix"
      ]
    },
    {
      "cell_type": "code",
      "metadata": {
        "id": "aKpIkDXHliE_",
        "colab_type": "code",
        "colab": {
          "base_uri": "https://localhost:8080/",
          "height": 498
        },
        "outputId": "e729d36c-ea33-479d-a50c-cc3c1ef42433"
      },
      "source": [
        "# Plot confusion matrix\n",
        "from sklearn.metrics import confusion_matrix\n",
        "import itertools\n",
        "\n",
        "def plot_confusion_matrix(cm, classes,\n",
        "                          normalize=False,\n",
        "                          title='Confusion matrix',\n",
        "                          cmap=plt.cm.Blues):\n",
        "  \"\"\"\n",
        "  This function prints and plots the confusion matrix.\n",
        "  Normalization can be applied by setting `normalize=True`.\n",
        "  \"\"\"\n",
        "  if normalize:\n",
        "      cm = cm.astype('float') / cm.sum(axis=1)[:, np.newaxis]\n",
        "      print(\"Normalized confusion matrix\")\n",
        "  else:\n",
        "      print('Confusion matrix, without normalization')\n",
        "\n",
        "  print(cm)\n",
        "\n",
        "  plt.imshow(cm, interpolation='nearest', cmap=cmap)\n",
        "  plt.title(title)\n",
        "  plt.colorbar()\n",
        "  tick_marks = np.arange(len(classes))\n",
        "  plt.xticks(tick_marks, classes, rotation=45)\n",
        "  plt.yticks(tick_marks, classes)\n",
        "\n",
        "  fmt = '.2f' if normalize else 'd'\n",
        "  thresh = cm.max() / 2.\n",
        "  for i, j in itertools.product(range(cm.shape[0]), range(cm.shape[1])):\n",
        "      plt.text(j, i, format(cm[i, j], fmt),\n",
        "               horizontalalignment=\"center\",\n",
        "               color=\"white\" if cm[i, j] > thresh else \"black\")\n",
        "\n",
        "  plt.tight_layout()\n",
        "  plt.ylabel('True label')\n",
        "  plt.xlabel('Predicted label')\n",
        "  plt.show()\n",
        "\n",
        "\n",
        "p_test = model.predict(x_test).argmax(axis=1)\n",
        "cm = confusion_matrix(y_test, p_test)\n",
        "plot_confusion_matrix(cm, list(range(10)))\n"
      ],
      "execution_count": 14,
      "outputs": [
        {
          "output_type": "stream",
          "text": [
            "Confusion matrix, without normalization\n",
            "[[847   1  20  17   4   1 102   0   8   0]\n",
            " [  5 973   2  15   2   0   1   0   2   0]\n",
            " [ 14   0 824   9  56   0  93   0   4   0]\n",
            " [ 17   9  14 900  27   0  30   0   3   0]\n",
            " [  0   1  47  23 827   0  98   0   4   0]\n",
            " [  0   0   0   1   0 966   0  23   3   7]\n",
            " [113   1  54  24  70   0 724   0  14   0]\n",
            " [  0   0   0   1   0   3   0 973   0  23]\n",
            " [  1   0   3   1   3   2   6   3 981   0]\n",
            " [  1   0   0   0   0   5   0  41   0 953]]\n"
          ],
          "name": "stdout"
        },
        {
          "output_type": "display_data",
          "data": {
            "image/png": "[encoded data removed]",
            "text/plain": [
              "<Figure size 432x288 with 2 Axes>"
            ]
          },
          "metadata": {
            "tags": [],
            "needs_background": "light"
          }
        }
      ]
    },
    {
      "cell_type": "markdown",
      "metadata": {
        "id": "C2G5HY3Omfc8",
        "colab_type": "text"
      },
      "source": [
        "Label Mapping"
      ]
    },
    {
      "cell_type": "code",
      "metadata": {
        "id": "BJnhvT-zmh03",
        "colab_type": "code",
        "colab": {}
      },
      "source": [
        "# Label mapping\n",
        "labels = '''T-shirt/top\n",
        "Trouser\n",
        "Pullover\n",
        "Dress\n",
        "Coat\n",
        "Sandal\n",
        "Shirt\n",
        "Sneaker\n",
        "Bag\n",
        "Ankle boot'''.split(\"\\n\")"
      ],
      "execution_count": 0,
      "outputs": []
    },
    {
      "cell_type": "markdown",
      "metadata": {
        "id": "sp3f9xiWmioP",
        "colab_type": "text"
      },
      "source": [
        "# Identifying Misclassified samples"
      ]
    },
    {
      "cell_type": "code",
      "metadata": {
        "id": "TWYbmKiimiy5",
        "colab_type": "code",
        "colab": {
          "base_uri": "https://localhost:8080/",
          "height": 281
        },
        "outputId": "94f3f9db-07be-4e35-cb33-d08206c00d5d"
      },
      "source": [
        "# Show some misclassified examples\n",
        "misclassified_idx = np.where(p_test != y_test)[0]\n",
        "i = np.random.choice(misclassified_idx)\n",
        "plt.imshow(x_test[i].reshape(28,28), cmap='gray')\n",
        "plt.title(\"True label: %s Predicted: %s\" % (labels[y_test[i]], labels[p_test[i]]));"
      ],
      "execution_count": 19,
      "outputs": [
        {
          "output_type": "display_data",
          "data": {
            "image/png": "[encoded data removed]",
            "text/plain": [
              "<Figure size 432x288 with 1 Axes>"
            ]
          },
          "metadata": {
            "tags": [],
            "needs_background": "light"
          }
        }
      ]
    }
  ]
}